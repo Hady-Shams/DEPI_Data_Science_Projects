{
 "cells": [
  {
   "cell_type": "code",
   "execution_count": 1,
   "id": "1ce7b423-1d34-419c-ba2d-a2b5e12723ec",
   "metadata": {},
   "outputs": [],
   "source": [
    "import requests\n",
    "from bs4 import BeautifulSoup\n",
    "import csv\n",
    "import json"
   ]
  },
  {
   "cell_type": "code",
   "execution_count": 2,
   "id": "38979443-6c9d-475d-899d-b5e6f9764116",
   "metadata": {},
   "outputs": [],
   "source": [
    "def save_to_csv(filename, data, headers):\n",
    "    with open(filename, mode='w', newline='', encoding='utf-8') as f:\n",
    "        writer = csv.DictWriter(f, fieldnames=headers)\n",
    "        writer.writeheader()\n",
    "        writer.writerows(data)\n",
    "\n",
    "def save_to_json(filename, data):\n",
    "    with open(filename, mode='w', encoding='utf-8') as f:\n",
    "        json.dump(data, f, indent=4, ensure_ascii=False)"
   ]
  },
  {
   "cell_type": "code",
   "execution_count": 3,
   "id": "e7dfebad-134c-4bf5-aff5-c720d000aaa1",
   "metadata": {},
   "outputs": [],
   "source": [
    "url = 'https://baraasalout.github.io/test.html'\n",
    "response = requests.get(url)\n",
    "soup = BeautifulSoup(response.text, 'html.parser')"
   ]
  },
  {
   "cell_type": "markdown",
   "id": "e80dc90b-9b7e-49c5-88cf-e10dadd7fd5f",
   "metadata": {},
   "source": [
    "# 1. Extract Text Data"
   ]
  },
  {
   "cell_type": "code",
   "execution_count": 5,
   "id": "7eae75c0-eeac-4004-b9ee-b68d19edfa47",
   "metadata": {},
   "outputs": [
    {
     "name": "stdout",
     "output_type": "stream",
     "text": [
      "Data saved to Extract_Text_Data.csv.\n"
     ]
    }
   ],
   "source": [
    "fileName = 'Extract_Text_Data.csv'\n",
    "header = ['Type', 'Content']\n",
    "data = []\n",
    "# Tags\n",
    "tag_mapping ={\n",
    "    'h1': 'Heading',\n",
    "    'h2': 'Heading',\n",
    "    'p': 'Paragraph',\n",
    "    'li': 'List'\n",
    "}\n",
    "\n",
    "# Extract Elements\n",
    "for tag in soup.find_all(['h1', 'h2', 'p', 'li']):\n",
    "    tag_type = tag_mapping.get(tag.name)\n",
    "    content = tag.get_text(strip=True)\n",
    "    if content:\n",
    "        data.append({\n",
    "            'Type': tag_type,\n",
    "            'Content': content\n",
    "        })\n",
    "\n",
    "# Save to CSV\n",
    "save_to_csv(fileName, data, header)\n",
    "print(f\"Data saved to {fileName}.\")"
   ]
  },
  {
   "cell_type": "markdown",
   "id": "3e194996-b1d1-44c6-9719-a8f3d57529cc",
   "metadata": {},
   "source": [
    "# 2. Extract Table Data"
   ]
  },
  {
   "cell_type": "code",
   "execution_count": 7,
   "id": "276c944a-7ffe-4f68-961b-05a81dbdb50a",
   "metadata": {},
   "outputs": [
    {
     "name": "stdout",
     "output_type": "stream",
     "text": [
      "Data saved to Extract_Table_Data.csv.\n"
     ]
    }
   ],
   "source": [
    "table = soup.find(\"table\")\n",
    "fileName = 'Extract_Table_Data.csv'\n",
    "header = ['Product Name', 'Price', 'Stock Status']\n",
    "data = []\n",
    "\n",
    "for row in table.find_all(\"tr\")[1:]:  # skip the header row\n",
    "    cols = row.find_all(\"td\")\n",
    "    if len(cols) >= 3: # Make sure we get the desired data\n",
    "        product_name = cols[0].get_text(strip=True)\n",
    "        price = cols[1].get_text(strip=True)\n",
    "        stock_status = cols[2].get_text(strip=True)\n",
    "        \n",
    "        data.append({\n",
    "            'Product Name': product_name,\n",
    "            'Price': price,\n",
    "            'Stock Status': stock_status\n",
    "        })\n",
    "\n",
    "# Save to CSV\n",
    "save_to_csv(fileName, data, header)\n",
    "print(f\"Data saved to {fileName}.\")"
   ]
  },
  {
   "cell_type": "markdown",
   "id": "407608d4-5595-47fb-8d23-ae4c75260a0e",
   "metadata": {},
   "source": [
    "# 3. Extract Product Information"
   ]
  },
  {
   "cell_type": "code",
   "execution_count": 9,
   "id": "aad805e9-5b34-4297-80b8-1b0bd78806ff",
   "metadata": {},
   "outputs": [
    {
     "name": "stdout",
     "output_type": "stream",
     "text": [
      "Data saved to Product_Information.json.\n"
     ]
    }
   ],
   "source": [
    "fileName = 'Product_Information.json'\n",
    "books = soup.find(\"div\", class_=\"book-products\")\n",
    "book_divs = books.find_all(\"div\", recursive=False)\n",
    "books_data = []\n",
    "\n",
    "for book in book_divs:\n",
    "    title = book.find(\"strong\").get_text(strip=True)\n",
    "    price = book.find_all(\"p\", style=lambda s: s and \"color: green\" in s)[0].get_text(strip=True)\n",
    "    availability = book.find_all(\"p\", style=lambda s: s and \"color: green\" in s)[1].get_text(strip=True)\n",
    "    button = book.find(\"button\").get_text(strip=True)\n",
    "    \n",
    "    books_data.append({\n",
    "        'title': title,\n",
    "        'price': price,\n",
    "        'availability': availability,\n",
    "        'button': button\n",
    "    })\n",
    "\n",
    "# Save to JSON\n",
    "save_to_json(fileName, books_data)\n",
    "print(f\"Data saved to {fileName}.\")"
   ]
  },
  {
   "cell_type": "markdown",
   "id": "c9bb367c-9863-404a-afb2-f06a62bb561e",
   "metadata": {},
   "source": [
    "# 4. Extract Form Details"
   ]
  },
  {
   "cell_type": "code",
   "execution_count": 11,
   "id": "8776ce0c-f884-48bc-93f9-f123dd15278c",
   "metadata": {},
   "outputs": [
    {
     "name": "stdout",
     "output_type": "stream",
     "text": [
      "Data saved to form_fields.json.\n"
     ]
    }
   ],
   "source": [
    "fileName = 'form_fields.json'\n",
    "form = soup.find(\"form\")\n",
    "fields_data = []\n",
    "\n",
    "# Extract <input> fields\n",
    "for field in form.find_all(\"input\"):\n",
    "    fields_data.append({\n",
    "        \"name\": field.get(\"name\"),\n",
    "        \"type\": field.get(\"type\"),\n",
    "        \"default_value\": field.get(\"placeholder\") or field.get(\"value\")\n",
    "    })\n",
    "\n",
    "# Extract <select> fields\n",
    "for select in form.find_all(\"select\"):\n",
    "    options = [opt.get_text(strip=True) for opt in select.find_all(\"option\")]\n",
    "\n",
    "# Add options to the check box\n",
    "for field in fields_data:\n",
    "    if field['type'] == 'checkbox':\n",
    "        field['Options'] = options\n",
    "\n",
    "# Save to JSON\n",
    "save_to_json(fileName, fields_data)\n",
    "print(f\"Data saved to {fileName}.\")"
   ]
  },
  {
   "cell_type": "markdown",
   "id": "00a22547-d407-4187-882b-3df526bc09c5",
   "metadata": {},
   "source": [
    "# 5. Extract Links and Multimedia"
   ]
  },
  {
   "cell_type": "code",
   "execution_count": 13,
   "id": "a86c4011-0572-48af-826f-192ff666a476",
   "metadata": {},
   "outputs": [
    {
     "name": "stdout",
     "output_type": "stream",
     "text": [
      "Data saved to Links_and_Multimedia.json.\n"
     ]
    }
   ],
   "source": [
    "fileName = 'Links_and_Multimedia.json'\n",
    "videos_link = soup.find_all(\"iframe\", src=True)\n",
    "\n",
    "videos = [{\"video_src\": iframe.get('src')} for iframe in videos_link] # if there is other videos\n",
    "\n",
    "# Save to JSON\n",
    "save_to_json(fileName, videos)\n",
    "print(f\"Data saved to {fileName}.\")"
   ]
  },
  {
   "cell_type": "markdown",
   "id": "8fe05141-33ed-4829-b7f5-bd5f4bdc927e",
   "metadata": {},
   "source": [
    "# 6. Featured Products Challenge"
   ]
  },
  {
   "cell_type": "code",
   "execution_count": 15,
   "id": "f09eeb77-3ccc-4303-99bb-2a0d9d39da1c",
   "metadata": {},
   "outputs": [
    {
     "name": "stdout",
     "output_type": "stream",
     "text": [
      "Data saved to Featured_Products.json.\n"
     ]
    }
   ],
   "source": [
    "fileName = 'Featured_Products.json'\n",
    "products = soup.find_all(class_='product-card')\n",
    "products_list = []\n",
    "\n",
    "for product in products:\n",
    "    products_list.append({\n",
    "        'id': product.get('data-id'),\n",
    "        'name': product.find(class_='name').get_text(strip=True),\n",
    "        'price': product.find(class_='price').get_text(strip=True),\n",
    "        'colors': product.find(class_='colors').get_text(strip=True).replace('Available colors: ', \"\")\n",
    "    })\n",
    "\n",
    "# Save to JSON\n",
    "save_to_json(fileName, products_list)\n",
    "print(f\"Data saved to {fileName}.\")"
   ]
  }
 ],
 "metadata": {
  "kernelspec": {
   "display_name": "Python [conda env:base] *",
   "language": "python",
   "name": "conda-base-py"
  },
  "language_info": {
   "codemirror_mode": {
    "name": "ipython",
    "version": 3
   },
   "file_extension": ".py",
   "mimetype": "text/x-python",
   "name": "python",
   "nbconvert_exporter": "python",
   "pygments_lexer": "ipython3",
   "version": "3.12.4"
  }
 },
 "nbformat": 4,
 "nbformat_minor": 5
}
