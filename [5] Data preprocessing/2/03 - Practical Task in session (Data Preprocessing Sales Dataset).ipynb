{
 "cells": [
  {
   "cell_type": "markdown",
   "id": "2bcd8d08-8691-46dc-804a-4fde5f776e24",
   "metadata": {},
   "source": [
    "#  Practical Data Preprocessing Task – Sales Dataset\n",
    "\n",
    "##  Task Title:\n",
    "**\"Will This Sale Be Successful?\"**\n",
    "\n",
    "##  Objective:\n",
    "You are provided with a real-world retail dataset. Your task is to **prepare the data for a machine learning classification model** that predicts whether a customer will purchase **more than 3 items in a single transaction**.\n",
    "\n",
    "You will perform a complete preprocessing pipeline from data exploration to handling imbalances, with visualizations and clear justifications for each step.\n",
    "\n",
    "---\n",
    "\n",
    "##  Dataset Description:\n",
    "\n",
    "Dataset link: [Customer Shopping Dataset – Retail Sales Data](https://www.kaggle.com/datasets/mehmettahiraslan/customer-shopping-dataset)\n",
    "\n",
    "The dataset contains sales transactions from a retail environment with the following columns:\n",
    "\n",
    "| Column Name       | Description                                                              |\n",
    "|------------------|---------------------------------------------------------------------------|\n",
    "| `invoice_no`      | Unique identifier for the invoice                                         |\n",
    "| `customer_id`     | Unique identifier for each customer                                       |\n",
    "| `gender`          | Gender of the customer (`Male`, `Female`)                                |\n",
    "| `age`             | Age of the customer                                                      |\n",
    "| `category`        | Category of the purchased product                                        |\n",
    "| `quantity`        | Number of items purchased in the transaction                            |\n",
    "| `price`           | Unit price of the product in Turkish Lira                                |\n",
    "| `payment_method`  | Payment method used (e.g., `Cash`, `Credit Card`, `Debit Card`)         |\n",
    "| `invoice_date`    | Date of the transaction                                                  |\n",
    "| `shopping_mall`   | Name of the mall where the transaction occurred                         |\n",
    "\n",
    "---\n",
    "\n",
    "##  Task Instructions:\n",
    "\n",
    "You must complete the following steps **in order**, and write clear explanations (in Markdown cells) alongside your code in a Jupyter Notebook.\n",
    "\n",
    "### 1. Load & Explore the Data\n",
    "- Load the dataset.\n",
    "- Display first few rows and general information.\n",
    "- Summary statistics of numerical and categorical features.\n",
    "- Visualizations:\n",
    "  - Histogram of `age`, `price`, and `quantity`.\n",
    "  - Countplot for `gender`, `category`, and `payment_method`.\n",
    "\n",
    "---\n",
    "\n",
    "### 2. Clean the Data\n",
    "- Remove duplicate records if any.\n",
    "- Identify and remove/fix unrealistic values (e.g., negative or 0 prices, age outliers).\n",
    "- Provide a rationale for cleaning decisions.\n",
    "\n",
    "---\n",
    "\n",
    "### 3. Handle Missing Data\n",
    "- Check for missing values.\n",
    "- Apply at least two different strategies to handle missing data:\n",
    "  - Drop\n",
    "  - Fill (e.g., with median, mode, etc.)\n",
    "- Justify why each method was chosen.\n",
    "\n",
    "---\n",
    "\n",
    "### 4. Feature Engineering\n",
    "- Create a new column: `total_spent = quantity * price`\n",
    "- Create a new binary target column:\n",
    "  - 1 if `quantity > 3`, otherwise 0\n",
    "  - Name the new column `target`\n",
    "\n",
    "---\n",
    "\n",
    "### 5. Encode Categorical Variables\n",
    "- Encode all applicable categorical features using suitable encoding techniques.\n",
    "- Explain your choice (e.g., Label Encoding vs OneHot Encoding).\n",
    "\n",
    "---\n",
    "\n",
    "### 6. Detect & Handle Outliers\n",
    "- Use visualizations (e.g., boxplots) to detect outliers in numerical columns like `age`, `price`, and `total_spent`.\n",
    "- Apply IQR or another statistical method to handle outliers.\n",
    "\n",
    "---\n",
    "\n",
    "### 7. Feature Scaling\n",
    "- Apply feature scaling to numerical columns like `age`, `price`, and `total_spent`.\n",
    "- Use either `StandardScaler` or `MinMaxScaler`.\n",
    "- Show distributions before and after scaling.\n",
    "\n",
    "---\n",
    "\n",
    "### 8. Train-Test Split\n",
    "- Split the data into training and testing sets (80/20).\n",
    "- Use `stratify=y` to preserve class distribution.\n",
    "\n",
    "---\n",
    "\n",
    "### 9. Deal with Imbalanced Classes\n",
    "- Check class distribution of your `target` variable.\n",
    "- If imbalanced, apply resampling techniques:\n",
    "  - Random UnderSampling or SMOTE\n",
    "- Show class distribution before and after resampling.\n",
    "\n",
    "---\n",
    "    \n",
    "## Deliverables:\n",
    "At the end of the session, you should submit:\n",
    "- A complete Jupyter Notebook with:\n",
    "  - Well-structured code\n",
    "  - Clear explanations using Markdown\n",
    "  - Visualizations embedded\n",
    "- A short reflection answering:\n",
    "  - What challenges did you face?\n",
    "  - What did you learn from this task?\n",
    "  - What would you do differently if the dataset was larger/messier?\n",
    "\n",
    "---\n",
    "\n",
    "## Hints:\n",
    "- Clean code is important! Keep your notebook readable.\n",
    "- Justify your preprocessing decisions.\n",
    "- Label your visualizations properly.\n",
    "\n",
    "---\n",
    "\n",
    "> **Good luck! This is your chance to practice real-world data preparation and analysis.**\n"
   ]
  },
  {
   "cell_type": "markdown",
   "id": "0cf54fd2-0686-45e0-a7a2-34233d57d7eb",
   "metadata": {
    "jp-MarkdownHeadingCollapsed": true
   },
   "source": [
    "------------"
   ]
  },
  {
   "cell_type": "markdown",
   "id": "2600c4ae-b440-4875-907a-bc4e5bd3ac2f",
   "metadata": {
    "jp-MarkdownHeadingCollapsed": true
   },
   "source": [
    "------------"
   ]
  },
  {
   "cell_type": "markdown",
   "id": "0fbbec5e-fb86-4cbd-855e-207bfa514759",
   "metadata": {
    "jp-MarkdownHeadingCollapsed": true
   },
   "source": [
    "## 1. Load & Explore the Data"
   ]
  },
  {
   "cell_type": "code",
   "execution_count": 1,
   "id": "651b3e0a-5a39-4e4b-be48-f065e31545e8",
   "metadata": {},
   "outputs": [],
   "source": [
    "# Import libraries\n",
    "import pandas as pd\n",
    "import matplotlib.pyplot as plt\n",
    "import seaborn as sns"
   ]
  },
  {
   "cell_type": "code",
   "execution_count": 3,
   "id": "de762038-0420-496a-9d36-38b546b724d1",
   "metadata": {},
   "outputs": [
    {
     "data": {
      "text/html": [
       "<div>\n",
       "<style scoped>\n",
       "    .dataframe tbody tr th:only-of-type {\n",
       "        vertical-align: middle;\n",
       "    }\n",
       "\n",
       "    .dataframe tbody tr th {\n",
       "        vertical-align: top;\n",
       "    }\n",
       "\n",
       "    .dataframe thead th {\n",
       "        text-align: right;\n",
       "    }\n",
       "</style>\n",
       "<table border=\"1\" class=\"dataframe\">\n",
       "  <thead>\n",
       "    <tr style=\"text-align: right;\">\n",
       "      <th></th>\n",
       "      <th>invoice_no</th>\n",
       "      <th>customer_id</th>\n",
       "      <th>gender</th>\n",
       "      <th>age</th>\n",
       "      <th>category</th>\n",
       "      <th>quantity</th>\n",
       "      <th>price</th>\n",
       "      <th>payment_method</th>\n",
       "      <th>invoice_date</th>\n",
       "      <th>shopping_mall</th>\n",
       "    </tr>\n",
       "  </thead>\n",
       "  <tbody>\n",
       "    <tr>\n",
       "      <th>0</th>\n",
       "      <td>I138884</td>\n",
       "      <td>C241288</td>\n",
       "      <td>Female</td>\n",
       "      <td>28</td>\n",
       "      <td>Clothing</td>\n",
       "      <td>5</td>\n",
       "      <td>1500.40</td>\n",
       "      <td>Credit Card</td>\n",
       "      <td>5/8/2022</td>\n",
       "      <td>Kanyon</td>\n",
       "    </tr>\n",
       "    <tr>\n",
       "      <th>1</th>\n",
       "      <td>I317333</td>\n",
       "      <td>C111565</td>\n",
       "      <td>Male</td>\n",
       "      <td>21</td>\n",
       "      <td>Shoes</td>\n",
       "      <td>3</td>\n",
       "      <td>1800.51</td>\n",
       "      <td>Debit Card</td>\n",
       "      <td>12/12/2021</td>\n",
       "      <td>Forum Istanbul</td>\n",
       "    </tr>\n",
       "    <tr>\n",
       "      <th>2</th>\n",
       "      <td>I127801</td>\n",
       "      <td>C266599</td>\n",
       "      <td>Male</td>\n",
       "      <td>20</td>\n",
       "      <td>Clothing</td>\n",
       "      <td>1</td>\n",
       "      <td>300.08</td>\n",
       "      <td>Cash</td>\n",
       "      <td>9/11/2021</td>\n",
       "      <td>Metrocity</td>\n",
       "    </tr>\n",
       "    <tr>\n",
       "      <th>3</th>\n",
       "      <td>I173702</td>\n",
       "      <td>C988172</td>\n",
       "      <td>Female</td>\n",
       "      <td>66</td>\n",
       "      <td>Shoes</td>\n",
       "      <td>5</td>\n",
       "      <td>3000.85</td>\n",
       "      <td>Credit Card</td>\n",
       "      <td>16/05/2021</td>\n",
       "      <td>Metropol AVM</td>\n",
       "    </tr>\n",
       "    <tr>\n",
       "      <th>4</th>\n",
       "      <td>I337046</td>\n",
       "      <td>C189076</td>\n",
       "      <td>Female</td>\n",
       "      <td>53</td>\n",
       "      <td>Books</td>\n",
       "      <td>4</td>\n",
       "      <td>60.60</td>\n",
       "      <td>Cash</td>\n",
       "      <td>24/10/2021</td>\n",
       "      <td>Kanyon</td>\n",
       "    </tr>\n",
       "  </tbody>\n",
       "</table>\n",
       "</div>"
      ],
      "text/plain": [
       "  invoice_no customer_id  gender  age  category  quantity    price  \\\n",
       "0    I138884     C241288  Female   28  Clothing         5  1500.40   \n",
       "1    I317333     C111565    Male   21     Shoes         3  1800.51   \n",
       "2    I127801     C266599    Male   20  Clothing         1   300.08   \n",
       "3    I173702     C988172  Female   66     Shoes         5  3000.85   \n",
       "4    I337046     C189076  Female   53     Books         4    60.60   \n",
       "\n",
       "  payment_method invoice_date   shopping_mall  \n",
       "0    Credit Card     5/8/2022          Kanyon  \n",
       "1     Debit Card   12/12/2021  Forum Istanbul  \n",
       "2           Cash    9/11/2021       Metrocity  \n",
       "3    Credit Card   16/05/2021    Metropol AVM  \n",
       "4           Cash   24/10/2021          Kanyon  "
      ]
     },
     "execution_count": 3,
     "metadata": {},
     "output_type": "execute_result"
    }
   ],
   "source": [
    "# Load dataset (replace with your actual file path)\n",
    "df = pd.read_csv(\"customer_shopping_data.csv\")\n",
    "\n",
    "# Display first few rows\n",
    "df.head()"
   ]
  },
  {
   "cell_type": "code",
   "execution_count": 5,
   "id": "09e9c66a-0197-44eb-9293-350514ff9708",
   "metadata": {},
   "outputs": [
    {
     "name": "stdout",
     "output_type": "stream",
     "text": [
      "<class 'pandas.core.frame.DataFrame'>\n",
      "RangeIndex: 99457 entries, 0 to 99456\n",
      "Data columns (total 10 columns):\n",
      " #   Column          Non-Null Count  Dtype  \n",
      "---  ------          --------------  -----  \n",
      " 0   invoice_no      99457 non-null  object \n",
      " 1   customer_id     99457 non-null  object \n",
      " 2   gender          99457 non-null  object \n",
      " 3   age             99457 non-null  int64  \n",
      " 4   category        99457 non-null  object \n",
      " 5   quantity        99457 non-null  int64  \n",
      " 6   price           99457 non-null  float64\n",
      " 7   payment_method  99457 non-null  object \n",
      " 8   invoice_date    99457 non-null  object \n",
      " 9   shopping_mall   99457 non-null  object \n",
      "dtypes: float64(1), int64(2), object(7)\n",
      "memory usage: 7.6+ MB\n"
     ]
    }
   ],
   "source": [
    "# General information about the dataset\n",
    "df.info()"
   ]
  },
  {
   "cell_type": "code",
   "execution_count": 7,
   "id": "e65856d2-121c-421c-a4e3-b0145849d64a",
   "metadata": {},
   "outputs": [
    {
     "data": {
      "text/html": [
       "<div>\n",
       "<style scoped>\n",
       "    .dataframe tbody tr th:only-of-type {\n",
       "        vertical-align: middle;\n",
       "    }\n",
       "\n",
       "    .dataframe tbody tr th {\n",
       "        vertical-align: top;\n",
       "    }\n",
       "\n",
       "    .dataframe thead th {\n",
       "        text-align: right;\n",
       "    }\n",
       "</style>\n",
       "<table border=\"1\" class=\"dataframe\">\n",
       "  <thead>\n",
       "    <tr style=\"text-align: right;\">\n",
       "      <th></th>\n",
       "      <th>age</th>\n",
       "      <th>quantity</th>\n",
       "      <th>price</th>\n",
       "    </tr>\n",
       "  </thead>\n",
       "  <tbody>\n",
       "    <tr>\n",
       "      <th>count</th>\n",
       "      <td>99457.000000</td>\n",
       "      <td>99457.000000</td>\n",
       "      <td>99457.000000</td>\n",
       "    </tr>\n",
       "    <tr>\n",
       "      <th>mean</th>\n",
       "      <td>43.427089</td>\n",
       "      <td>3.003429</td>\n",
       "      <td>689.256321</td>\n",
       "    </tr>\n",
       "    <tr>\n",
       "      <th>std</th>\n",
       "      <td>14.990054</td>\n",
       "      <td>1.413025</td>\n",
       "      <td>941.184567</td>\n",
       "    </tr>\n",
       "    <tr>\n",
       "      <th>min</th>\n",
       "      <td>18.000000</td>\n",
       "      <td>1.000000</td>\n",
       "      <td>5.230000</td>\n",
       "    </tr>\n",
       "    <tr>\n",
       "      <th>25%</th>\n",
       "      <td>30.000000</td>\n",
       "      <td>2.000000</td>\n",
       "      <td>45.450000</td>\n",
       "    </tr>\n",
       "    <tr>\n",
       "      <th>50%</th>\n",
       "      <td>43.000000</td>\n",
       "      <td>3.000000</td>\n",
       "      <td>203.300000</td>\n",
       "    </tr>\n",
       "    <tr>\n",
       "      <th>75%</th>\n",
       "      <td>56.000000</td>\n",
       "      <td>4.000000</td>\n",
       "      <td>1200.320000</td>\n",
       "    </tr>\n",
       "    <tr>\n",
       "      <th>max</th>\n",
       "      <td>69.000000</td>\n",
       "      <td>5.000000</td>\n",
       "      <td>5250.000000</td>\n",
       "    </tr>\n",
       "  </tbody>\n",
       "</table>\n",
       "</div>"
      ],
      "text/plain": [
       "                age      quantity         price\n",
       "count  99457.000000  99457.000000  99457.000000\n",
       "mean      43.427089      3.003429    689.256321\n",
       "std       14.990054      1.413025    941.184567\n",
       "min       18.000000      1.000000      5.230000\n",
       "25%       30.000000      2.000000     45.450000\n",
       "50%       43.000000      3.000000    203.300000\n",
       "75%       56.000000      4.000000   1200.320000\n",
       "max       69.000000      5.000000   5250.000000"
      ]
     },
     "execution_count": 7,
     "metadata": {},
     "output_type": "execute_result"
    }
   ],
   "source": [
    "# Summary statistics of numerical features\n",
    "df.describe()"
   ]
  },
  {
   "cell_type": "code",
   "execution_count": 9,
   "id": "e8444336-0332-417e-872b-e806863667ab",
   "metadata": {},
   "outputs": [
    {
     "data": {
      "text/html": [
       "<div>\n",
       "<style scoped>\n",
       "    .dataframe tbody tr th:only-of-type {\n",
       "        vertical-align: middle;\n",
       "    }\n",
       "\n",
       "    .dataframe tbody tr th {\n",
       "        vertical-align: top;\n",
       "    }\n",
       "\n",
       "    .dataframe thead th {\n",
       "        text-align: right;\n",
       "    }\n",
       "</style>\n",
       "<table border=\"1\" class=\"dataframe\">\n",
       "  <thead>\n",
       "    <tr style=\"text-align: right;\">\n",
       "      <th></th>\n",
       "      <th>invoice_no</th>\n",
       "      <th>customer_id</th>\n",
       "      <th>gender</th>\n",
       "      <th>category</th>\n",
       "      <th>payment_method</th>\n",
       "      <th>invoice_date</th>\n",
       "      <th>shopping_mall</th>\n",
       "    </tr>\n",
       "  </thead>\n",
       "  <tbody>\n",
       "    <tr>\n",
       "      <th>count</th>\n",
       "      <td>99457</td>\n",
       "      <td>99457</td>\n",
       "      <td>99457</td>\n",
       "      <td>99457</td>\n",
       "      <td>99457</td>\n",
       "      <td>99457</td>\n",
       "      <td>99457</td>\n",
       "    </tr>\n",
       "    <tr>\n",
       "      <th>unique</th>\n",
       "      <td>99457</td>\n",
       "      <td>99457</td>\n",
       "      <td>2</td>\n",
       "      <td>8</td>\n",
       "      <td>3</td>\n",
       "      <td>797</td>\n",
       "      <td>10</td>\n",
       "    </tr>\n",
       "    <tr>\n",
       "      <th>top</th>\n",
       "      <td>I138884</td>\n",
       "      <td>C241288</td>\n",
       "      <td>Female</td>\n",
       "      <td>Clothing</td>\n",
       "      <td>Cash</td>\n",
       "      <td>24/11/2021</td>\n",
       "      <td>Mall of Istanbul</td>\n",
       "    </tr>\n",
       "    <tr>\n",
       "      <th>freq</th>\n",
       "      <td>1</td>\n",
       "      <td>1</td>\n",
       "      <td>59482</td>\n",
       "      <td>34487</td>\n",
       "      <td>44447</td>\n",
       "      <td>159</td>\n",
       "      <td>19943</td>\n",
       "    </tr>\n",
       "  </tbody>\n",
       "</table>\n",
       "</div>"
      ],
      "text/plain": [
       "       invoice_no customer_id  gender  category payment_method invoice_date  \\\n",
       "count       99457       99457   99457     99457          99457        99457   \n",
       "unique      99457       99457       2         8              3          797   \n",
       "top       I138884     C241288  Female  Clothing           Cash   24/11/2021   \n",
       "freq            1           1   59482     34487          44447          159   \n",
       "\n",
       "           shopping_mall  \n",
       "count              99457  \n",
       "unique                10  \n",
       "top     Mall of Istanbul  \n",
       "freq               19943  "
      ]
     },
     "execution_count": 9,
     "metadata": {},
     "output_type": "execute_result"
    }
   ],
   "source": [
    "# Summary statistics of categorical features\n",
    "df.describe(include=['object'])"
   ]
  },
  {
   "cell_type": "code",
   "execution_count": 11,
   "id": "702a3f16-21c6-46ce-a58b-3f0b06201a07",
   "metadata": {
    "scrolled": true
   },
   "outputs": [
    {
     "data": {
      "image/png": "[encoded data removed]",
      "text/plain": [
       "<Figure size 1800x500 with 3 Axes>"
      ]
     },
     "metadata": {},
     "output_type": "display_data"
    }
   ],
   "source": [
    "# Histograms for numerical columns\n",
    "fig, axes = plt.subplots(1, 3, figsize=(18, 5))\n",
    "\n",
    "sns.histplot(df['age'], bins=30, kde=True, ax=axes[0], color=\"skyblue\")\n",
    "axes[0].set_title(\"Age Distribution\")\n",
    "\n",
    "sns.histplot(df['price'], bins=30, kde=True, ax=axes[1], color=\"salmon\")\n",
    "axes[1].set_title(\"Price Distribution\")\n",
    "\n",
    "sns.histplot(df['quantity'], bins=30, kde=False, ax=axes[2], color=\"lightgreen\")\n",
    "axes[2].set_title(\"Quantity Distribution\")\n",
    "\n",
    "plt.tight_layout()\n",
    "plt.show()"
   ]
  },
  {
   "cell_type": "code",
   "execution_count": 13,
   "id": "a96e0409-07ee-45b1-985f-ae5ef4cf5367",
   "metadata": {},
   "outputs": [
    {
     "name": "stderr",
     "output_type": "stream",
     "text": [
      "C:\\Users\\hadys\\AppData\\Local\\Temp\\ipykernel_18204\\3203954092.py:4: FutureWarning: \n",
      "\n",
      "Passing `palette` without assigning `hue` is deprecated and will be removed in v0.14.0. Assign the `x` variable to `hue` and set `legend=False` for the same effect.\n",
      "\n",
      "  sns.countplot(data=df, x='gender', ax=axes[0], palette=\"pastel\")\n",
      "C:\\Users\\hadys\\AppData\\Local\\Temp\\ipykernel_18204\\3203954092.py:7: FutureWarning: \n",
      "\n",
      "Passing `palette` without assigning `hue` is deprecated and will be removed in v0.14.0. Assign the `x` variable to `hue` and set `legend=False` for the same effect.\n",
      "\n",
      "  sns.countplot(data=df, x='category', ax=axes[1], palette=\"pastel\")\n",
      "C:\\Users\\hadys\\AppData\\Local\\Temp\\ipykernel_18204\\3203954092.py:11: FutureWarning: \n",
      "\n",
      "Passing `palette` without assigning `hue` is deprecated and will be removed in v0.14.0. Assign the `x` variable to `hue` and set `legend=False` for the same effect.\n",
      "\n",
      "  sns.countplot(data=df, x='payment_method', ax=axes[2], palette=\"pastel\")\n"
     ]
    },
    {
     "data": {
      "image/png": "[encoded data removed]",
      "text/plain": [
       "<Figure size 1800x500 with 3 Axes>"
      ]
     },
     "metadata": {},
     "output_type": "display_data"
    }
   ],
   "source": [
    "# Countplots for categorical columns\n",
    "fig, axes = plt.subplots(1, 3, figsize=(18, 5))\n",
    "\n",
    "sns.countplot(data=df, x='gender', ax=axes[0], palette=\"pastel\")\n",
    "axes[0].set_title(\"Gender Distribution\")\n",
    "\n",
    "sns.countplot(data=df, x='category', ax=axes[1], palette=\"pastel\")\n",
    "axes[1].set_title(\"Category Distribution\")\n",
    "axes[1].tick_params(axis='x', rotation=45)\n",
    "\n",
    "sns.countplot(data=df, x='payment_method', ax=axes[2], palette=\"pastel\")\n",
    "axes[2].set_title(\"Payment Method Distribution\")\n",
    "\n",
    "plt.tight_layout()\n",
    "plt.show()"
   ]
  },
  {
   "cell_type": "markdown",
   "id": "b5655f7f-d30e-42d5-9c36-6450cfb693f7",
   "metadata": {},
   "source": [
    "------------"
   ]
  },
  {
   "cell_type": "markdown",
   "id": "3850e397-5e19-477c-ac54-2354e7d30712",
   "metadata": {
    "jp-MarkdownHeadingCollapsed": true
   },
   "source": [
    "## 2. Clean the Data"
   ]
  },
  {
   "cell_type": "code",
   "execution_count": 16,
   "id": "98e72a75-fe66-4c46-84e2-552e32ee180b",
   "metadata": {},
   "outputs": [
    {
     "data": {
      "text/plain": [
       "0"
      ]
     },
     "execution_count": 16,
     "metadata": {},
     "output_type": "execute_result"
    }
   ],
   "source": [
    "# Check for duplicate records\n",
    "df.duplicated().sum()"
   ]
  },
  {
   "cell_type": "code",
   "execution_count": 30,
   "id": "cebdae7c-6e13-4a6c-86d6-60662c0c3b8e",
   "metadata": {},
   "outputs": [
    {
     "name": "stdout",
     "output_type": "stream",
     "text": [
      "Age range: 18 - 69\n",
      "Price range: 5.23 - 5250.0\n",
      "Quantity range: 1 - 5\n"
     ]
    }
   ],
   "source": [
    "# Check ranges of numerical columns\n",
    "print(\"Age range:\", df['age'].min(), \"-\", df['age'].max())\n",
    "print(\"Price range:\", df['price'].min(), \"-\", df['price'].max())\n",
    "print(\"Quantity range:\", df['quantity'].min(), \"-\", df['quantity'].max())"
   ]
  },
  {
   "cell_type": "code",
   "execution_count": null,
   "id": "1db05cfe-7603-424a-be87-a7c25963d30f",
   "metadata": {},
   "outputs": [],
   "source": [
    "The dataset already has clean ranges"
   ]
  },
  {
   "cell_type": "code",
   "execution_count": null,
   "id": "5f5d6996-fdde-4b7b-bac8-c75771bf716b",
   "metadata": {},
   "outputs": [],
   "source": []
  },
  {
   "cell_type": "markdown",
   "id": "903c3ebe-56cf-4ad2-acbe-806f2024cbd7",
   "metadata": {},
   "source": [
    "### Quick check"
   ]
  },
  {
   "cell_type": "code",
   "execution_count": 41,
   "id": "0bbd0682-a7a7-42cc-87fd-abb119d662dc",
   "metadata": {},
   "outputs": [
    {
     "data": {
      "text/html": [
       "<div>\n",
       "<style scoped>\n",
       "    .dataframe tbody tr th:only-of-type {\n",
       "        vertical-align: middle;\n",
       "    }\n",
       "\n",
       "    .dataframe tbody tr th {\n",
       "        vertical-align: top;\n",
       "    }\n",
       "\n",
       "    .dataframe thead th {\n",
       "        text-align: right;\n",
       "    }\n",
       "</style>\n",
       "<table border=\"1\" class=\"dataframe\">\n",
       "  <thead>\n",
       "    <tr style=\"text-align: right;\">\n",
       "      <th></th>\n",
       "      <th>customer_id</th>\n",
       "      <th>count</th>\n",
       "    </tr>\n",
       "  </thead>\n",
       "  <tbody>\n",
       "  </tbody>\n",
       "</table>\n",
       "</div>"
      ],
      "text/plain": [
       "Empty DataFrame\n",
       "Columns: [customer_id, count]\n",
       "Index: []"
      ]
     },
     "execution_count": 41,
     "metadata": {},
     "output_type": "execute_result"
    }
   ],
   "source": [
    "(\n",
    "    df.groupby(['customer_id'])\n",
    "    .size()\n",
    "    .reset_index(name='count')\n",
    "    .query('count > 1')\n",
    ")"
   ]
  },
  {
   "cell_type": "code",
   "execution_count": 43,
   "id": "6fcc66fc-8c73-4849-983b-91aaca67de72",
   "metadata": {},
   "outputs": [
    {
     "data": {
      "text/plain": [
       "array(['Female', 'Male'], dtype=object)"
      ]
     },
     "execution_count": 43,
     "metadata": {},
     "output_type": "execute_result"
    }
   ],
   "source": [
    "df['gender'].unique()"
   ]
  },
  {
   "cell_type": "code",
   "execution_count": 45,
   "id": "5fcb744e-21c9-4e6d-b35a-d21d0032eabf",
   "metadata": {},
   "outputs": [
    {
     "data": {
      "text/plain": [
       "array(['Clothing', 'Shoes', 'Books', 'Cosmetics', 'Food & Beverage',\n",
       "       'Toys', 'Technology', 'Souvenir'], dtype=object)"
      ]
     },
     "execution_count": 45,
     "metadata": {},
     "output_type": "execute_result"
    }
   ],
   "source": [
    "df['category'].unique()"
   ]
  },
  {
   "cell_type": "code",
   "execution_count": 47,
   "id": "d185124d-329d-48be-9131-4e6c6cfb5f06",
   "metadata": {},
   "outputs": [
    {
     "data": {
      "text/plain": [
       "array(['Credit Card', 'Debit Card', 'Cash'], dtype=object)"
      ]
     },
     "execution_count": 47,
     "metadata": {},
     "output_type": "execute_result"
    }
   ],
   "source": [
    "df['payment_method'].unique()"
   ]
  },
  {
   "cell_type": "code",
   "execution_count": 49,
   "id": "5726d572-1aec-4ff0-b86c-5088f2357bce",
   "metadata": {},
   "outputs": [
    {
     "data": {
      "text/plain": [
       "array(['Kanyon', 'Forum Istanbul', 'Metrocity', 'Metropol AVM',\n",
       "       'Istinye Park', 'Mall of Istanbul', 'Emaar Square Mall',\n",
       "       'Cevahir AVM', 'Viaport Outlet', 'Zorlu Center'], dtype=object)"
      ]
     },
     "execution_count": 49,
     "metadata": {},
     "output_type": "execute_result"
    }
   ],
   "source": [
    "df['shopping_mall'].unique()"
   ]
  },
  {
   "cell_type": "code",
   "execution_count": 53,
   "id": "cd00d6c6-73c6-43f4-a5a3-590e6ea56827",
   "metadata": {},
   "outputs": [
    {
     "name": "stdout",
     "output_type": "stream",
     "text": [
      "Min date: 2021-01-01 00:00:00\n",
      "Max date: 2023-03-08 00:00:00\n"
     ]
    }
   ],
   "source": [
    "# Ensure invoice_date is in datetime format\n",
    "df['invoice_date'] = pd.to_datetime(df['invoice_date'], format=\"%d/%m/%Y\")\n",
    "\n",
    "# Get minimum and maximum dates\n",
    "print(\"Min date:\", df['invoice_date'].min())\n",
    "print(\"Max date:\", df['invoice_date'].max())"
   ]
  },
  {
   "cell_type": "markdown",
   "id": "76d0b66e-a642-461b-a1c8-ede2e4cdd658",
   "metadata": {
    "jp-MarkdownHeadingCollapsed": true
   },
   "source": [
    "------------"
   ]
  },
  {
   "cell_type": "markdown",
   "id": "57345ca3-4d83-4e4d-9277-fcb4cc4b089a",
   "metadata": {
    "jp-MarkdownHeadingCollapsed": true
   },
   "source": [
    "## 3. Handle Missing Data"
   ]
  },
  {
   "cell_type": "code",
   "execution_count": 57,
   "id": "905421a3-b0fb-4d79-8c4f-c11a0cd63fef",
   "metadata": {},
   "outputs": [
    {
     "data": {
      "text/plain": [
       "invoice_no        0\n",
       "customer_id       0\n",
       "gender            0\n",
       "age               0\n",
       "category          0\n",
       "quantity          0\n",
       "price             0\n",
       "payment_method    0\n",
       "invoice_date      0\n",
       "shopping_mall     0\n",
       "dtype: int64"
      ]
     },
     "execution_count": 57,
     "metadata": {},
     "output_type": "execute_result"
    }
   ],
   "source": [
    "# Check for missing values\n",
    "df.isnull().sum()"
   ]
  },
  {
   "cell_type": "code",
   "execution_count": null,
   "id": "5477ee3f-4ebc-40f0-86ba-d1449d04924e",
   "metadata": {},
   "outputs": [],
   "source": [
    "no missing values at all in the dataset."
   ]
  },
  {
   "cell_type": "markdown",
   "id": "eadb2e88-c654-4623-920f-836086d47a5e",
   "metadata": {
    "jp-MarkdownHeadingCollapsed": true
   },
   "source": [
    "------------"
   ]
  },
  {
   "cell_type": "markdown",
   "id": "a293d033-bb09-4044-bfa3-6137892e47ac",
   "metadata": {
    "jp-MarkdownHeadingCollapsed": true
   },
   "source": [
    "## 4. Feature Engineering"
   ]
  },
  {
   "cell_type": "code",
   "execution_count": 68,
   "id": "907aed46-3dd8-4f51-a848-136d862f1d78",
   "metadata": {},
   "outputs": [
    {
     "data": {
      "text/html": [
       "<div>\n",
       "<style scoped>\n",
       "    .dataframe tbody tr th:only-of-type {\n",
       "        vertical-align: middle;\n",
       "    }\n",
       "\n",
       "    .dataframe tbody tr th {\n",
       "        vertical-align: top;\n",
       "    }\n",
       "\n",
       "    .dataframe thead th {\n",
       "        text-align: right;\n",
       "    }\n",
       "</style>\n",
       "<table border=\"1\" class=\"dataframe\">\n",
       "  <thead>\n",
       "    <tr style=\"text-align: right;\">\n",
       "      <th></th>\n",
       "      <th>invoice_no</th>\n",
       "      <th>customer_id</th>\n",
       "      <th>gender</th>\n",
       "      <th>age</th>\n",
       "      <th>category</th>\n",
       "      <th>quantity</th>\n",
       "      <th>price</th>\n",
       "      <th>payment_method</th>\n",
       "      <th>invoice_date</th>\n",
       "      <th>shopping_mall</th>\n",
       "      <th>total_spent</th>\n",
       "      <th>target</th>\n",
       "    </tr>\n",
       "  </thead>\n",
       "  <tbody>\n",
       "    <tr>\n",
       "      <th>0</th>\n",
       "      <td>I138884</td>\n",
       "      <td>C241288</td>\n",
       "      <td>Female</td>\n",
       "      <td>28</td>\n",
       "      <td>Clothing</td>\n",
       "      <td>5</td>\n",
       "      <td>1500.40</td>\n",
       "      <td>Credit Card</td>\n",
       "      <td>2022-08-05</td>\n",
       "      <td>Kanyon</td>\n",
       "      <td>7502.00</td>\n",
       "      <td>1</td>\n",
       "    </tr>\n",
       "    <tr>\n",
       "      <th>1</th>\n",
       "      <td>I317333</td>\n",
       "      <td>C111565</td>\n",
       "      <td>Male</td>\n",
       "      <td>21</td>\n",
       "      <td>Shoes</td>\n",
       "      <td>3</td>\n",
       "      <td>1800.51</td>\n",
       "      <td>Debit Card</td>\n",
       "      <td>2021-12-12</td>\n",
       "      <td>Forum Istanbul</td>\n",
       "      <td>5401.53</td>\n",
       "      <td>0</td>\n",
       "    </tr>\n",
       "    <tr>\n",
       "      <th>2</th>\n",
       "      <td>I127801</td>\n",
       "      <td>C266599</td>\n",
       "      <td>Male</td>\n",
       "      <td>20</td>\n",
       "      <td>Clothing</td>\n",
       "      <td>1</td>\n",
       "      <td>300.08</td>\n",
       "      <td>Cash</td>\n",
       "      <td>2021-11-09</td>\n",
       "      <td>Metrocity</td>\n",
       "      <td>300.08</td>\n",
       "      <td>0</td>\n",
       "    </tr>\n",
       "    <tr>\n",
       "      <th>3</th>\n",
       "      <td>I173702</td>\n",
       "      <td>C988172</td>\n",
       "      <td>Female</td>\n",
       "      <td>66</td>\n",
       "      <td>Shoes</td>\n",
       "      <td>5</td>\n",
       "      <td>3000.85</td>\n",
       "      <td>Credit Card</td>\n",
       "      <td>2021-05-16</td>\n",
       "      <td>Metropol AVM</td>\n",
       "      <td>15004.25</td>\n",
       "      <td>1</td>\n",
       "    </tr>\n",
       "    <tr>\n",
       "      <th>4</th>\n",
       "      <td>I337046</td>\n",
       "      <td>C189076</td>\n",
       "      <td>Female</td>\n",
       "      <td>53</td>\n",
       "      <td>Books</td>\n",
       "      <td>4</td>\n",
       "      <td>60.60</td>\n",
       "      <td>Cash</td>\n",
       "      <td>2021-10-24</td>\n",
       "      <td>Kanyon</td>\n",
       "      <td>242.40</td>\n",
       "      <td>1</td>\n",
       "    </tr>\n",
       "  </tbody>\n",
       "</table>\n",
       "</div>"
      ],
      "text/plain": [
       "  invoice_no customer_id  gender  age  category  quantity    price  \\\n",
       "0    I138884     C241288  Female   28  Clothing         5  1500.40   \n",
       "1    I317333     C111565    Male   21     Shoes         3  1800.51   \n",
       "2    I127801     C266599    Male   20  Clothing         1   300.08   \n",
       "3    I173702     C988172  Female   66     Shoes         5  3000.85   \n",
       "4    I337046     C189076  Female   53     Books         4    60.60   \n",
       "\n",
       "  payment_method invoice_date   shopping_mall  total_spent  target  \n",
       "0    Credit Card   2022-08-05          Kanyon      7502.00       1  \n",
       "1     Debit Card   2021-12-12  Forum Istanbul      5401.53       0  \n",
       "2           Cash   2021-11-09       Metrocity       300.08       0  \n",
       "3    Credit Card   2021-05-16    Metropol AVM     15004.25       1  \n",
       "4           Cash   2021-10-24          Kanyon       242.40       1  "
      ]
     },
     "execution_count": 68,
     "metadata": {},
     "output_type": "execute_result"
    }
   ],
   "source": [
    "# 1. Create total_spent column\n",
    "df['total_spent'] = df['quantity'] * df['price']\n",
    "\n",
    "# 2. Create binary target column\n",
    "df['target'] = (df['quantity'] > 3).astype(int)\n",
    "\n",
    "df.head()"
   ]
  },
  {
   "cell_type": "markdown",
   "id": "0b11fc6b-8512-41c2-9f3e-3921952555d4",
   "metadata": {
    "jp-MarkdownHeadingCollapsed": true
   },
   "source": [
    "------------"
   ]
  },
  {
   "cell_type": "markdown",
   "id": "f6d1021a-67d2-4f4d-9a86-994df645ca2a",
   "metadata": {
    "jp-MarkdownHeadingCollapsed": true
   },
   "source": [
    "## 5. Encode Categorical Variables"
   ]
  },
  {
   "cell_type": "code",
   "execution_count": 71,
   "id": "9f2e4db7-9fa2-4047-a0bb-fc7faf521b8b",
   "metadata": {},
   "outputs": [
    {
     "data": {
      "text/html": [
       "<div>\n",
       "<style scoped>\n",
       "    .dataframe tbody tr th:only-of-type {\n",
       "        vertical-align: middle;\n",
       "    }\n",
       "\n",
       "    .dataframe tbody tr th {\n",
       "        vertical-align: top;\n",
       "    }\n",
       "\n",
       "    .dataframe thead th {\n",
       "        text-align: right;\n",
       "    }\n",
       "</style>\n",
       "<table border=\"1\" class=\"dataframe\">\n",
       "  <thead>\n",
       "    <tr style=\"text-align: right;\">\n",
       "      <th></th>\n",
       "      <th>gender</th>\n",
       "      <th>gender_encoded</th>\n",
       "    </tr>\n",
       "  </thead>\n",
       "  <tbody>\n",
       "    <tr>\n",
       "      <th>0</th>\n",
       "      <td>Female</td>\n",
       "      <td>0</td>\n",
       "    </tr>\n",
       "    <tr>\n",
       "      <th>1</th>\n",
       "      <td>Male</td>\n",
       "      <td>1</td>\n",
       "    </tr>\n",
       "    <tr>\n",
       "      <th>2</th>\n",
       "      <td>Male</td>\n",
       "      <td>1</td>\n",
       "    </tr>\n",
       "    <tr>\n",
       "      <th>3</th>\n",
       "      <td>Female</td>\n",
       "      <td>0</td>\n",
       "    </tr>\n",
       "    <tr>\n",
       "      <th>4</th>\n",
       "      <td>Female</td>\n",
       "      <td>0</td>\n",
       "    </tr>\n",
       "  </tbody>\n",
       "</table>\n",
       "</div>"
      ],
      "text/plain": [
       "   gender  gender_encoded\n",
       "0  Female               0\n",
       "1    Male               1\n",
       "2    Male               1\n",
       "3  Female               0\n",
       "4  Female               0"
      ]
     },
     "execution_count": 71,
     "metadata": {},
     "output_type": "execute_result"
    }
   ],
   "source": [
    "# 1. Label Encoding for gender\n",
    "\"\"\"\n",
    "Why Label Encoding?\n",
    "  - gender has only two categories (Male, Female).\n",
    "  - Label Encoding assigns them 0 and 1 without introducing unnecessary extra columns.\n",
    "\"\"\"\n",
    "from sklearn.preprocessing import LabelEncoder\n",
    "\n",
    "# Apply Label Encoding to binary categorical column\n",
    "le = LabelEncoder()\n",
    "df['gender_encoded'] = le.fit_transform(df['gender'])\n",
    "\n",
    "df[['gender', 'gender_encoded']].head()"
   ]
  },
  {
   "cell_type": "code",
   "execution_count": 73,
   "id": "8208142a-5011-4005-aa3f-5f96049ae91f",
   "metadata": {},
   "outputs": [
    {
     "data": {
      "text/html": [
       "<div>\n",
       "<style scoped>\n",
       "    .dataframe tbody tr th:only-of-type {\n",
       "        vertical-align: middle;\n",
       "    }\n",
       "\n",
       "    .dataframe tbody tr th {\n",
       "        vertical-align: top;\n",
       "    }\n",
       "\n",
       "    .dataframe thead th {\n",
       "        text-align: right;\n",
       "    }\n",
       "</style>\n",
       "<table border=\"1\" class=\"dataframe\">\n",
       "  <thead>\n",
       "    <tr style=\"text-align: right;\">\n",
       "      <th></th>\n",
       "      <th>invoice_no</th>\n",
       "      <th>customer_id</th>\n",
       "      <th>gender</th>\n",
       "      <th>age</th>\n",
       "      <th>quantity</th>\n",
       "      <th>price</th>\n",
       "      <th>invoice_date</th>\n",
       "      <th>total_spent</th>\n",
       "      <th>target</th>\n",
       "      <th>gender_encoded</th>\n",
       "      <th>...</th>\n",
       "      <th>payment_method_Debit Card</th>\n",
       "      <th>shopping_mall_Emaar Square Mall</th>\n",
       "      <th>shopping_mall_Forum Istanbul</th>\n",
       "      <th>shopping_mall_Istinye Park</th>\n",
       "      <th>shopping_mall_Kanyon</th>\n",
       "      <th>shopping_mall_Mall of Istanbul</th>\n",
       "      <th>shopping_mall_Metrocity</th>\n",
       "      <th>shopping_mall_Metropol AVM</th>\n",
       "      <th>shopping_mall_Viaport Outlet</th>\n",
       "      <th>shopping_mall_Zorlu Center</th>\n",
       "    </tr>\n",
       "  </thead>\n",
       "  <tbody>\n",
       "    <tr>\n",
       "      <th>0</th>\n",
       "      <td>I138884</td>\n",
       "      <td>C241288</td>\n",
       "      <td>Female</td>\n",
       "      <td>28</td>\n",
       "      <td>5</td>\n",
       "      <td>1500.40</td>\n",
       "      <td>2022-08-05</td>\n",
       "      <td>7502.00</td>\n",
       "      <td>1</td>\n",
       "      <td>0</td>\n",
       "      <td>...</td>\n",
       "      <td>False</td>\n",
       "      <td>False</td>\n",
       "      <td>False</td>\n",
       "      <td>False</td>\n",
       "      <td>True</td>\n",
       "      <td>False</td>\n",
       "      <td>False</td>\n",
       "      <td>False</td>\n",
       "      <td>False</td>\n",
       "      <td>False</td>\n",
       "    </tr>\n",
       "    <tr>\n",
       "      <th>1</th>\n",
       "      <td>I317333</td>\n",
       "      <td>C111565</td>\n",
       "      <td>Male</td>\n",
       "      <td>21</td>\n",
       "      <td>3</td>\n",
       "      <td>1800.51</td>\n",
       "      <td>2021-12-12</td>\n",
       "      <td>5401.53</td>\n",
       "      <td>0</td>\n",
       "      <td>1</td>\n",
       "      <td>...</td>\n",
       "      <td>True</td>\n",
       "      <td>False</td>\n",
       "      <td>True</td>\n",
       "      <td>False</td>\n",
       "      <td>False</td>\n",
       "      <td>False</td>\n",
       "      <td>False</td>\n",
       "      <td>False</td>\n",
       "      <td>False</td>\n",
       "      <td>False</td>\n",
       "    </tr>\n",
       "    <tr>\n",
       "      <th>2</th>\n",
       "      <td>I127801</td>\n",
       "      <td>C266599</td>\n",
       "      <td>Male</td>\n",
       "      <td>20</td>\n",
       "      <td>1</td>\n",
       "      <td>300.08</td>\n",
       "      <td>2021-11-09</td>\n",
       "      <td>300.08</td>\n",
       "      <td>0</td>\n",
       "      <td>1</td>\n",
       "      <td>...</td>\n",
       "      <td>False</td>\n",
       "      <td>False</td>\n",
       "      <td>False</td>\n",
       "      <td>False</td>\n",
       "      <td>False</td>\n",
       "      <td>False</td>\n",
       "      <td>True</td>\n",
       "      <td>False</td>\n",
       "      <td>False</td>\n",
       "      <td>False</td>\n",
       "    </tr>\n",
       "    <tr>\n",
       "      <th>3</th>\n",
       "      <td>I173702</td>\n",
       "      <td>C988172</td>\n",
       "      <td>Female</td>\n",
       "      <td>66</td>\n",
       "      <td>5</td>\n",
       "      <td>3000.85</td>\n",
       "      <td>2021-05-16</td>\n",
       "      <td>15004.25</td>\n",
       "      <td>1</td>\n",
       "      <td>0</td>\n",
       "      <td>...</td>\n",
       "      <td>False</td>\n",
       "      <td>False</td>\n",
       "      <td>False</td>\n",
       "      <td>False</td>\n",
       "      <td>False</td>\n",
       "      <td>False</td>\n",
       "      <td>False</td>\n",
       "      <td>True</td>\n",
       "      <td>False</td>\n",
       "      <td>False</td>\n",
       "    </tr>\n",
       "    <tr>\n",
       "      <th>4</th>\n",
       "      <td>I337046</td>\n",
       "      <td>C189076</td>\n",
       "      <td>Female</td>\n",
       "      <td>53</td>\n",
       "      <td>4</td>\n",
       "      <td>60.60</td>\n",
       "      <td>2021-10-24</td>\n",
       "      <td>242.40</td>\n",
       "      <td>1</td>\n",
       "      <td>0</td>\n",
       "      <td>...</td>\n",
       "      <td>False</td>\n",
       "      <td>False</td>\n",
       "      <td>False</td>\n",
       "      <td>False</td>\n",
       "      <td>True</td>\n",
       "      <td>False</td>\n",
       "      <td>False</td>\n",
       "      <td>False</td>\n",
       "      <td>False</td>\n",
       "      <td>False</td>\n",
       "    </tr>\n",
       "  </tbody>\n",
       "</table>\n",
       "<p>5 rows × 28 columns</p>\n",
       "</div>"
      ],
      "text/plain": [
       "  invoice_no customer_id  gender  age  quantity    price invoice_date  \\\n",
       "0    I138884     C241288  Female   28         5  1500.40   2022-08-05   \n",
       "1    I317333     C111565    Male   21         3  1800.51   2021-12-12   \n",
       "2    I127801     C266599    Male   20         1   300.08   2021-11-09   \n",
       "3    I173702     C988172  Female   66         5  3000.85   2021-05-16   \n",
       "4    I337046     C189076  Female   53         4    60.60   2021-10-24   \n",
       "\n",
       "   total_spent  target  gender_encoded  ...  payment_method_Debit Card  \\\n",
       "0      7502.00       1               0  ...                      False   \n",
       "1      5401.53       0               1  ...                       True   \n",
       "2       300.08       0               1  ...                      False   \n",
       "3     15004.25       1               0  ...                      False   \n",
       "4       242.40       1               0  ...                      False   \n",
       "\n",
       "   shopping_mall_Emaar Square Mall  shopping_mall_Forum Istanbul  \\\n",
       "0                            False                         False   \n",
       "1                            False                          True   \n",
       "2                            False                         False   \n",
       "3                            False                         False   \n",
       "4                            False                         False   \n",
       "\n",
       "   shopping_mall_Istinye Park  shopping_mall_Kanyon  \\\n",
       "0                       False                  True   \n",
       "1                       False                 False   \n",
       "2                       False                 False   \n",
       "3                       False                 False   \n",
       "4                       False                  True   \n",
       "\n",
       "   shopping_mall_Mall of Istanbul  shopping_mall_Metrocity  \\\n",
       "0                           False                    False   \n",
       "1                           False                    False   \n",
       "2                           False                     True   \n",
       "3                           False                    False   \n",
       "4                           False                    False   \n",
       "\n",
       "   shopping_mall_Metropol AVM  shopping_mall_Viaport Outlet  \\\n",
       "0                       False                         False   \n",
       "1                       False                         False   \n",
       "2                       False                         False   \n",
       "3                        True                         False   \n",
       "4                       False                         False   \n",
       "\n",
       "   shopping_mall_Zorlu Center  \n",
       "0                       False  \n",
       "1                       False  \n",
       "2                       False  \n",
       "3                       False  \n",
       "4                       False  \n",
       "\n",
       "[5 rows x 28 columns]"
      ]
     },
     "execution_count": 73,
     "metadata": {},
     "output_type": "execute_result"
    }
   ],
   "source": [
    "# 2. One-Hot Encoding for multi-class features like [category, payment_method, and shopping_mall]\n",
    "\"\"\"\n",
    "Why One-Hot Encoding?\n",
    "  - Columns like category, payment_method, and shopping_mal` have more than two categories.\n",
    "  - Label Encoding here would imply an ordinal relationship (e.g., \"Electronics\" < \"Clothing\"), which does not make sense.\n",
    "  - One-Hot Encoding creates separate binary columns (dummy variables) for each category.\n",
    "  - We use `drop_first=True` to avoid the **dummy variable trap** (perfect multicollinearity).  \n",
    "\n",
    "\"\"\"\n",
    "df = pd.get_dummies(df, columns=['category', 'payment_method', 'shopping_mall'], drop_first=True)\n",
    "\n",
    "df.head()"
   ]
  },
  {
   "cell_type": "markdown",
   "id": "d3479635-07af-44aa-adb0-262bc3b6cfba",
   "metadata": {
    "jp-MarkdownHeadingCollapsed": true
   },
   "source": [
    "------------"
   ]
  },
  {
   "cell_type": "markdown",
   "id": "e752b3e0-a719-40c3-99a8-d38d6a5046e2",
   "metadata": {},
   "source": [
    "## 6. Detect & Handle Outliers"
   ]
  },
  {
   "cell_type": "code",
   "execution_count": 82,
   "id": "9a1dd6fb-d34a-4748-bba4-e95f81c365b6",
   "metadata": {},
   "outputs": [
    {
     "data": {
      "image/png": "[encoded data removed]",
      "text/plain": [
       "<Figure size 1500x500 with 3 Axes>"
      ]
     },
     "metadata": {},
     "output_type": "display_data"
    }
   ],
   "source": [
    "# Boxplots\n",
    "num_cols = ['age', 'price', 'total_spent']\n",
    "\n",
    "plt.figure(figsize=(15, 5))\n",
    "for i, col in enumerate(num_cols, 1):\n",
    "    plt.subplot(1, 3, i)\n",
    "    sns.boxplot(y=df[col], color=\"skyblue\")\n",
    "    plt.title(f\"{col}\")\n",
    "plt.tight_layout()\n",
    "plt.show()"
   ]
  },
  {
   "cell_type": "code",
   "execution_count": 101,
   "id": "8d9b8abb-7207-40ca-8bc2-baebc866dbb2",
   "metadata": {},
   "outputs": [
    {
     "name": "stdout",
     "output_type": "stream",
     "text": [
      "Price outliers: 0 values\n",
      "Bounds: -1686.8549999999998 : 2932.625\n"
     ]
    }
   ],
   "source": [
    "# IQR\n",
    "def detect_outliers_iqr(df, column):\n",
    "    Q1 = df[column].quantile(0.25)\n",
    "    Q3 = df[column].quantile(0.75)\n",
    "    IQR = Q3 - Q1\n",
    "    lower = Q1 - 1.5 * IQR\n",
    "    upper = Q3 + 1.5 * IQR\n",
    "\n",
    "    mask = (df[column] < lower) | (df[column] > upper)\n",
    "    outliers = df[mask]\n",
    "\n",
    "    df[column] = df[column].clip(lower, upper) # Assigns values outside boundary to boundary values\n",
    "    return outliers, lower, upper\n",
    "\n",
    "# Example for price\n",
    "outliers_price, lower_p, upper_p = detect_outliers_iqr(df, 'price')\n",
    "print(\"Price outliers:\", outliers_price.shape[0], \"values\")\n",
    "print(\"Bounds:\", lower_p, \":\", upper_p)"
   ]
  },
  {
   "cell_type": "code",
   "execution_count": null,
   "id": "04c2cd10-621b-4e6b-aefe-e7f625fae952",
   "metadata": {},
   "outputs": [],
   "source": []
  },
  {
   "cell_type": "code",
   "execution_count": null,
   "id": "5447cf53-e02a-4be0-b965-340803f7b49b",
   "metadata": {},
   "outputs": [],
   "source": []
  },
  {
   "cell_type": "code",
   "execution_count": null,
   "id": "fa772d63-876b-4cb2-926e-3e794eef6a9b",
   "metadata": {},
   "outputs": [],
   "source": []
  },
  {
   "cell_type": "code",
   "execution_count": null,
   "id": "a5b9bc12-4bce-42f6-ac5c-c368a2ac7f94",
   "metadata": {},
   "outputs": [],
   "source": []
  }
 ],
 "metadata": {
  "kernelspec": {
   "display_name": "Python [conda env:base] *",
   "language": "python",
   "name": "conda-base-py"
  },
  "language_info": {
   "codemirror_mode": {
    "name": "ipython",
    "version": 3
   },
   "file_extension": ".py",
   "mimetype": "text/x-python",
   "name": "python",
   "nbconvert_exporter": "python",
   "pygments_lexer": "ipython3",
   "version": "3.12.4"
  }
 },
 "nbformat": 4,
 "nbformat_minor": 5
}
