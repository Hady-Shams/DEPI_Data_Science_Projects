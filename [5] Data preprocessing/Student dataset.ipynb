{
 "cells": [
  {
   "cell_type": "markdown",
   "id": "08f64806",
   "metadata": {},
   "source": [
    "# Import Packages"
   ]
  },
  {
   "cell_type": "code",
   "execution_count": 1,
   "id": "158bd563",
   "metadata": {
    "ExecuteTime": {
     "end_time": "2025-09-16T18:52:01.764559Z",
     "start_time": "2025-09-16T18:52:00.500413Z"
    }
   },
   "outputs": [],
   "source": [
    "import pandas as pd\n",
    "import matplotlib.pyplot as plt\n",
    "import seaborn as sns"
   ]
  },
  {
   "cell_type": "markdown",
   "id": "1c3fbafc",
   "metadata": {},
   "source": [
    "# Part 1 – Data Cleaning"
   ]
  },
  {
   "cell_type": "code",
   "execution_count": 2,
   "id": "af898c09",
   "metadata": {
    "ExecuteTime": {
     "end_time": "2025-09-16T18:52:01.785286Z",
     "start_time": "2025-09-16T18:52:01.766580Z"
    }
   },
   "outputs": [
    {
     "data": {
      "text/html": [
       "<div>\n",
       "<style scoped>\n",
       "    .dataframe tbody tr th:only-of-type {\n",
       "        vertical-align: middle;\n",
       "    }\n",
       "\n",
       "    .dataframe tbody tr th {\n",
       "        vertical-align: top;\n",
       "    }\n",
       "\n",
       "    .dataframe thead th {\n",
       "        text-align: right;\n",
       "    }\n",
       "</style>\n",
       "<table border=\"1\" class=\"dataframe\">\n",
       "  <thead>\n",
       "    <tr style=\"text-align: right;\">\n",
       "      <th></th>\n",
       "      <th>fNAME</th>\n",
       "      <th>lNAME</th>\n",
       "      <th>Age</th>\n",
       "      <th>gender</th>\n",
       "      <th>country</th>\n",
       "      <th>residence</th>\n",
       "      <th>entryEXAM</th>\n",
       "      <th>prevEducation</th>\n",
       "      <th>studyHOURS</th>\n",
       "      <th>Python</th>\n",
       "      <th>DB</th>\n",
       "    </tr>\n",
       "  </thead>\n",
       "  <tbody>\n",
       "    <tr>\n",
       "      <th>0</th>\n",
       "      <td>Christina</td>\n",
       "      <td>Binger</td>\n",
       "      <td>44</td>\n",
       "      <td>Female</td>\n",
       "      <td>Norway</td>\n",
       "      <td>Private</td>\n",
       "      <td>72</td>\n",
       "      <td>Masters</td>\n",
       "      <td>158</td>\n",
       "      <td>59.0</td>\n",
       "      <td>55</td>\n",
       "    </tr>\n",
       "    <tr>\n",
       "      <th>1</th>\n",
       "      <td>Alex</td>\n",
       "      <td>Walekhwa</td>\n",
       "      <td>60</td>\n",
       "      <td>M</td>\n",
       "      <td>Kenya</td>\n",
       "      <td>Private</td>\n",
       "      <td>79</td>\n",
       "      <td>Diploma</td>\n",
       "      <td>150</td>\n",
       "      <td>60.0</td>\n",
       "      <td>75</td>\n",
       "    </tr>\n",
       "    <tr>\n",
       "      <th>2</th>\n",
       "      <td>Philip</td>\n",
       "      <td>Leo</td>\n",
       "      <td>25</td>\n",
       "      <td>Male</td>\n",
       "      <td>Uganda</td>\n",
       "      <td>Sognsvann</td>\n",
       "      <td>55</td>\n",
       "      <td>HighSchool</td>\n",
       "      <td>130</td>\n",
       "      <td>74.0</td>\n",
       "      <td>50</td>\n",
       "    </tr>\n",
       "    <tr>\n",
       "      <th>3</th>\n",
       "      <td>Shoni</td>\n",
       "      <td>Hlongwane</td>\n",
       "      <td>22</td>\n",
       "      <td>F</td>\n",
       "      <td>Rsa</td>\n",
       "      <td>Sognsvann</td>\n",
       "      <td>40</td>\n",
       "      <td>High School</td>\n",
       "      <td>120</td>\n",
       "      <td>NaN</td>\n",
       "      <td>44</td>\n",
       "    </tr>\n",
       "    <tr>\n",
       "      <th>4</th>\n",
       "      <td>Maria</td>\n",
       "      <td>Kedibone</td>\n",
       "      <td>23</td>\n",
       "      <td>Female</td>\n",
       "      <td>South Africa</td>\n",
       "      <td>Sognsvann</td>\n",
       "      <td>65</td>\n",
       "      <td>High School</td>\n",
       "      <td>122</td>\n",
       "      <td>91.0</td>\n",
       "      <td>80</td>\n",
       "    </tr>\n",
       "  </tbody>\n",
       "</table>\n",
       "</div>"
      ],
      "text/plain": [
       "       fNAME      lNAME  Age  gender       country  residence  entryEXAM  \\\n",
       "0  Christina     Binger   44  Female        Norway    Private         72   \n",
       "1       Alex   Walekhwa   60       M         Kenya    Private         79   \n",
       "2     Philip        Leo   25    Male        Uganda  Sognsvann         55   \n",
       "3      Shoni  Hlongwane   22       F           Rsa  Sognsvann         40   \n",
       "4      Maria   Kedibone   23  Female  South Africa  Sognsvann         65   \n",
       "\n",
       "  prevEducation  studyHOURS  Python  DB  \n",
       "0       Masters         158    59.0  55  \n",
       "1       Diploma         150    60.0  75  \n",
       "2    HighSchool         130    74.0  50  \n",
       "3   High School         120     NaN  44  \n",
       "4   High School         122    91.0  80  "
      ]
     },
     "execution_count": 2,
     "metadata": {},
     "output_type": "execute_result"
    }
   ],
   "source": [
    "df_student = pd.read_csv(r'students.csv', encoding='latin1')\n",
    "df_student.head()"
   ]
  },
  {
   "cell_type": "markdown",
   "id": "1e78ddc3",
   "metadata": {},
   "source": [
    "## 1. Check dataset structure\n"
   ]
  },
  {
   "cell_type": "code",
   "execution_count": 3,
   "id": "0d28ea5d",
   "metadata": {
    "ExecuteTime": {
     "end_time": "2025-09-16T18:52:01.790938Z",
     "start_time": "2025-09-16T18:52:01.786687Z"
    }
   },
   "outputs": [
    {
     "data": {
      "text/plain": [
       "(77, 11)"
      ]
     },
     "execution_count": 3,
     "metadata": {},
     "output_type": "execute_result"
    }
   ],
   "source": [
    "df_student.shape"
   ]
  },
  {
   "cell_type": "code",
   "execution_count": 4,
   "id": "64a56d1d",
   "metadata": {
    "ExecuteTime": {
     "end_time": "2025-09-16T18:52:01.800583Z",
     "start_time": "2025-09-16T18:52:01.791965Z"
    }
   },
   "outputs": [
    {
     "name": "stdout",
     "output_type": "stream",
     "text": [
      "<class 'pandas.core.frame.DataFrame'>\n",
      "RangeIndex: 77 entries, 0 to 76\n",
      "Data columns (total 11 columns):\n",
      " #   Column         Non-Null Count  Dtype  \n",
      "---  ------         --------------  -----  \n",
      " 0   fNAME          77 non-null     object \n",
      " 1   lNAME          77 non-null     object \n",
      " 2   Age            77 non-null     int64  \n",
      " 3   gender         77 non-null     object \n",
      " 4   country        77 non-null     object \n",
      " 5   residence      77 non-null     object \n",
      " 6   entryEXAM      77 non-null     int64  \n",
      " 7   prevEducation  77 non-null     object \n",
      " 8   studyHOURS     77 non-null     int64  \n",
      " 9   Python         75 non-null     float64\n",
      " 10  DB             77 non-null     int64  \n",
      "dtypes: float64(1), int64(4), object(6)\n",
      "memory usage: 6.7+ KB\n"
     ]
    }
   ],
   "source": [
    "df_student.info()"
   ]
  },
  {
   "cell_type": "code",
   "execution_count": 5,
   "id": "96c41000",
   "metadata": {
    "ExecuteTime": {
     "end_time": "2025-09-16T18:52:01.807707Z",
     "start_time": "2025-09-16T18:52:01.803119Z"
    }
   },
   "outputs": [
    {
     "data": {
      "text/plain": [
       "fNAME             object\n",
       "lNAME             object\n",
       "Age                int64\n",
       "gender            object\n",
       "country           object\n",
       "residence         object\n",
       "entryEXAM          int64\n",
       "prevEducation     object\n",
       "studyHOURS         int64\n",
       "Python           float64\n",
       "DB                 int64\n",
       "dtype: object"
      ]
     },
     "execution_count": 5,
     "metadata": {},
     "output_type": "execute_result"
    }
   ],
   "source": [
    "df_student.dtypes"
   ]
  },
  {
   "cell_type": "markdown",
   "id": "0cf716ee",
   "metadata": {},
   "source": [
    "## 2. Detect inconsistent categories"
   ]
  },
  {
   "cell_type": "code",
   "execution_count": 6,
   "id": "764ba450",
   "metadata": {
    "ExecuteTime": {
     "end_time": "2025-09-16T18:52:01.812942Z",
     "start_time": "2025-09-16T18:52:01.808715Z"
    }
   },
   "outputs": [
    {
     "data": {
      "text/plain": [
       "array(['FEMALE', 'M', 'MALE', 'F'], dtype=object)"
      ]
     },
     "execution_count": 6,
     "metadata": {},
     "output_type": "execute_result"
    }
   ],
   "source": [
    "df_student['gender'].str.upper().unique()"
   ]
  },
  {
   "cell_type": "code",
   "execution_count": 7,
   "id": "e617536c",
   "metadata": {
    "ExecuteTime": {
     "end_time": "2025-09-16T18:52:01.818803Z",
     "start_time": "2025-09-16T18:52:01.815037Z"
    }
   },
   "outputs": [],
   "source": [
    "df_student['gender'] = df_student['gender'].str.upper()"
   ]
  },
  {
   "cell_type": "code",
   "execution_count": 8,
   "id": "8ac0d2ac",
   "metadata": {
    "ExecuteTime": {
     "end_time": "2025-09-16T18:52:01.824252Z",
     "start_time": "2025-09-16T18:52:01.820608Z"
    }
   },
   "outputs": [
    {
     "name": "stderr",
     "output_type": "stream",
     "text": [
      "C:\\Users\\hadys\\AppData\\Local\\Temp\\ipykernel_2648\\2069411407.py:1: FutureWarning: A value is trying to be set on a copy of a DataFrame or Series through chained assignment using an inplace method.\n",
      "The behavior will change in pandas 3.0. This inplace method will never work because the intermediate object on which we are setting values always behaves as a copy.\n",
      "\n",
      "For example, when doing 'df[col].method(value, inplace=True)', try using 'df.method({col: value}, inplace=True)' or df[col] = df[col].method(value) instead, to perform the operation inplace on the original object.\n",
      "\n",
      "\n",
      "  df_student['gender'].replace({\n"
     ]
    }
   ],
   "source": [
    "df_student['gender'].replace({\n",
    "    'FEMALE': 'F',\n",
    "    'MALE': 'M'\n",
    "}, inplace=True)"
   ]
  },
  {
   "cell_type": "code",
   "execution_count": 9,
   "id": "e9f9473c",
   "metadata": {
    "ExecuteTime": {
     "end_time": "2025-09-16T18:52:01.830789Z",
     "start_time": "2025-09-16T18:52:01.825388Z"
    }
   },
   "outputs": [
    {
     "data": {
      "text/plain": [
       "array(['F', 'M'], dtype=object)"
      ]
     },
     "execution_count": 9,
     "metadata": {},
     "output_type": "execute_result"
    }
   ],
   "source": [
    "df_student['gender'].unique()"
   ]
  },
  {
   "cell_type": "code",
   "execution_count": null,
   "id": "1dbbc442",
   "metadata": {},
   "outputs": [],
   "source": []
  },
  {
   "cell_type": "code",
   "execution_count": 10,
   "id": "9c1cddd7",
   "metadata": {
    "ExecuteTime": {
     "end_time": "2025-09-16T18:52:01.837149Z",
     "start_time": "2025-09-16T18:52:01.832308Z"
    }
   },
   "outputs": [
    {
     "data": {
      "text/plain": [
       "array(['NORWAY', 'KENYA', 'UGANDA', 'RSA', 'SOUTH AFRICA', 'NORGE',\n",
       "       'DENMARK', 'NETHERLANDS', 'ITALY', 'SPAIN', 'UK', 'SOMALI',\n",
       "       'NIGERIA', 'GERMANY', 'FRANCE'], dtype=object)"
      ]
     },
     "execution_count": 10,
     "metadata": {},
     "output_type": "execute_result"
    }
   ],
   "source": [
    "df_student['country'].str.upper().unique()"
   ]
  },
  {
   "cell_type": "code",
   "execution_count": 11,
   "id": "05726fba",
   "metadata": {
    "ExecuteTime": {
     "end_time": "2025-09-16T18:52:01.841806Z",
     "start_time": "2025-09-16T18:52:01.838155Z"
    }
   },
   "outputs": [
    {
     "name": "stdout",
     "output_type": "stream",
     "text": [
      "['DENMARK', 'FRANCE', 'GERMANY', 'ITALY', 'KENYA', 'NETHERLANDS', 'NIGERIA', 'NORGE', 'NORWAY', 'RSA', 'SOMALI', 'SOUTH AFRICA', 'SPAIN', 'UGANDA', 'UK']\n"
     ]
    }
   ],
   "source": [
    "print(sorted(df_student['country'].str.upper().unique()))"
   ]
  },
  {
   "cell_type": "code",
   "execution_count": 12,
   "id": "1a97a333",
   "metadata": {
    "ExecuteTime": {
     "end_time": "2025-09-16T18:52:01.846737Z",
     "start_time": "2025-09-16T18:52:01.842942Z"
    }
   },
   "outputs": [],
   "source": [
    "df_student['country'] = df_student['country'].str.upper()"
   ]
  },
  {
   "cell_type": "code",
   "execution_count": null,
   "id": "b7f9f436",
   "metadata": {},
   "outputs": [],
   "source": []
  },
  {
   "cell_type": "code",
   "execution_count": 13,
   "id": "564134ba",
   "metadata": {
    "ExecuteTime": {
     "end_time": "2025-09-16T18:52:01.853069Z",
     "start_time": "2025-09-16T18:52:01.847743Z"
    }
   },
   "outputs": [
    {
     "data": {
      "text/plain": [
       "array(['Masters', 'Diploma', 'HighSchool', 'High School', 'Bachelors',\n",
       "       'Barrrchelors', 'diploma', 'DIPLOMA', 'Diplomaaa', 'Doctorate'],\n",
       "      dtype=object)"
      ]
     },
     "execution_count": 13,
     "metadata": {},
     "output_type": "execute_result"
    }
   ],
   "source": [
    "df_student['prevEducation'].unique()"
   ]
  },
  {
   "cell_type": "code",
   "execution_count": 14,
   "id": "c543959a",
   "metadata": {
    "ExecuteTime": {
     "end_time": "2025-09-16T18:52:01.861053Z",
     "start_time": "2025-09-16T18:52:01.856468Z"
    }
   },
   "outputs": [
    {
     "name": "stdout",
     "output_type": "stream",
     "text": [
      "['BACHELORS', 'BARRRCHELORS', 'DIPLOMA', 'DIPLOMAAA', 'DOCTORATE', 'HIGH SCHOOL', 'HIGHSCHOOL', 'MASTERS']\n"
     ]
    }
   ],
   "source": [
    "print(sorted(df_student['prevEducation'].str.upper().unique()))"
   ]
  },
  {
   "cell_type": "code",
   "execution_count": 15,
   "id": "69fc51be",
   "metadata": {
    "ExecuteTime": {
     "end_time": "2025-09-16T18:52:01.867001Z",
     "start_time": "2025-09-16T18:52:01.863002Z"
    }
   },
   "outputs": [],
   "source": [
    "df_student['prevEducation'] = df_student['prevEducation'].str.upper()"
   ]
  },
  {
   "cell_type": "code",
   "execution_count": 16,
   "id": "79bb2edb",
   "metadata": {
    "ExecuteTime": {
     "end_time": "2025-09-16T18:52:01.872323Z",
     "start_time": "2025-09-16T18:52:01.868049Z"
    }
   },
   "outputs": [
    {
     "name": "stderr",
     "output_type": "stream",
     "text": [
      "C:\\Users\\hadys\\AppData\\Local\\Temp\\ipykernel_2648\\3345426939.py:1: FutureWarning: A value is trying to be set on a copy of a DataFrame or Series through chained assignment using an inplace method.\n",
      "The behavior will change in pandas 3.0. This inplace method will never work because the intermediate object on which we are setting values always behaves as a copy.\n",
      "\n",
      "For example, when doing 'df[col].method(value, inplace=True)', try using 'df.method({col: value}, inplace=True)' or df[col] = df[col].method(value) instead, to perform the operation inplace on the original object.\n",
      "\n",
      "\n",
      "  df_student['prevEducation'].replace({\n"
     ]
    }
   ],
   "source": [
    "df_student['prevEducation'].replace({\n",
    "    'BARRRCHELORS': 'BACHELORS',\n",
    "    'DIPLOMAAA': 'DIPLOMA',\n",
    "    'HIGH SCHOOL': 'HIGHSCHOOL'\n",
    "}, inplace=True)"
   ]
  },
  {
   "cell_type": "code",
   "execution_count": 17,
   "id": "ee64d46a",
   "metadata": {
    "ExecuteTime": {
     "end_time": "2025-09-16T18:52:01.877458Z",
     "start_time": "2025-09-16T18:52:01.874233Z"
    }
   },
   "outputs": [
    {
     "name": "stdout",
     "output_type": "stream",
     "text": [
      "['BACHELORS', 'DIPLOMA', 'DOCTORATE', 'HIGHSCHOOL', 'MASTERS']\n"
     ]
    }
   ],
   "source": [
    "print(sorted(df_student['prevEducation'].unique()))"
   ]
  },
  {
   "cell_type": "markdown",
   "id": "5a3ca24c",
   "metadata": {},
   "source": [
    "## 3. Handle duplicates"
   ]
  },
  {
   "cell_type": "code",
   "execution_count": 18,
   "id": "50603628",
   "metadata": {
    "ExecuteTime": {
     "end_time": "2025-09-16T18:52:01.883672Z",
     "start_time": "2025-09-16T18:52:01.878484Z"
    }
   },
   "outputs": [
    {
     "data": {
      "text/plain": [
       "np.int64(0)"
      ]
     },
     "execution_count": 18,
     "metadata": {},
     "output_type": "execute_result"
    }
   ],
   "source": [
    "df_student.duplicated().sum()"
   ]
  },
  {
   "cell_type": "code",
   "execution_count": 19,
   "id": "4be904ed",
   "metadata": {
    "ExecuteTime": {
     "end_time": "2025-09-16T18:52:01.895512Z",
     "start_time": "2025-09-16T18:52:01.885414Z"
    }
   },
   "outputs": [
    {
     "data": {
      "text/html": [
       "<div>\n",
       "<style scoped>\n",
       "    .dataframe tbody tr th:only-of-type {\n",
       "        vertical-align: middle;\n",
       "    }\n",
       "\n",
       "    .dataframe tbody tr th {\n",
       "        vertical-align: top;\n",
       "    }\n",
       "\n",
       "    .dataframe thead th {\n",
       "        text-align: right;\n",
       "    }\n",
       "</style>\n",
       "<table border=\"1\" class=\"dataframe\">\n",
       "  <thead>\n",
       "    <tr style=\"text-align: right;\">\n",
       "      <th></th>\n",
       "      <th>fNAME</th>\n",
       "      <th>lNAME</th>\n",
       "      <th>Age</th>\n",
       "      <th>gender</th>\n",
       "      <th>country</th>\n",
       "      <th>residence</th>\n",
       "      <th>entryEXAM</th>\n",
       "      <th>prevEducation</th>\n",
       "      <th>studyHOURS</th>\n",
       "      <th>Python</th>\n",
       "      <th>DB</th>\n",
       "    </tr>\n",
       "  </thead>\n",
       "  <tbody>\n",
       "    <tr>\n",
       "      <th>0</th>\n",
       "      <td>Christina</td>\n",
       "      <td>Binger</td>\n",
       "      <td>44</td>\n",
       "      <td>F</td>\n",
       "      <td>NORWAY</td>\n",
       "      <td>Private</td>\n",
       "      <td>72</td>\n",
       "      <td>MASTERS</td>\n",
       "      <td>158</td>\n",
       "      <td>59.0</td>\n",
       "      <td>55</td>\n",
       "    </tr>\n",
       "    <tr>\n",
       "      <th>1</th>\n",
       "      <td>Alex</td>\n",
       "      <td>Walekhwa</td>\n",
       "      <td>60</td>\n",
       "      <td>M</td>\n",
       "      <td>KENYA</td>\n",
       "      <td>Private</td>\n",
       "      <td>79</td>\n",
       "      <td>DIPLOMA</td>\n",
       "      <td>150</td>\n",
       "      <td>60.0</td>\n",
       "      <td>75</td>\n",
       "    </tr>\n",
       "    <tr>\n",
       "      <th>2</th>\n",
       "      <td>Philip</td>\n",
       "      <td>Leo</td>\n",
       "      <td>25</td>\n",
       "      <td>M</td>\n",
       "      <td>UGANDA</td>\n",
       "      <td>Sognsvann</td>\n",
       "      <td>55</td>\n",
       "      <td>HIGHSCHOOL</td>\n",
       "      <td>130</td>\n",
       "      <td>74.0</td>\n",
       "      <td>50</td>\n",
       "    </tr>\n",
       "    <tr>\n",
       "      <th>3</th>\n",
       "      <td>Shoni</td>\n",
       "      <td>Hlongwane</td>\n",
       "      <td>22</td>\n",
       "      <td>F</td>\n",
       "      <td>RSA</td>\n",
       "      <td>Sognsvann</td>\n",
       "      <td>40</td>\n",
       "      <td>HIGHSCHOOL</td>\n",
       "      <td>120</td>\n",
       "      <td>NaN</td>\n",
       "      <td>44</td>\n",
       "    </tr>\n",
       "    <tr>\n",
       "      <th>4</th>\n",
       "      <td>Maria</td>\n",
       "      <td>Kedibone</td>\n",
       "      <td>23</td>\n",
       "      <td>F</td>\n",
       "      <td>SOUTH AFRICA</td>\n",
       "      <td>Sognsvann</td>\n",
       "      <td>65</td>\n",
       "      <td>HIGHSCHOOL</td>\n",
       "      <td>122</td>\n",
       "      <td>91.0</td>\n",
       "      <td>80</td>\n",
       "    </tr>\n",
       "  </tbody>\n",
       "</table>\n",
       "</div>"
      ],
      "text/plain": [
       "       fNAME      lNAME  Age gender       country  residence  entryEXAM  \\\n",
       "0  Christina     Binger   44      F        NORWAY    Private         72   \n",
       "1       Alex   Walekhwa   60      M         KENYA    Private         79   \n",
       "2     Philip        Leo   25      M        UGANDA  Sognsvann         55   \n",
       "3      Shoni  Hlongwane   22      F           RSA  Sognsvann         40   \n",
       "4      Maria   Kedibone   23      F  SOUTH AFRICA  Sognsvann         65   \n",
       "\n",
       "  prevEducation  studyHOURS  Python  DB  \n",
       "0       MASTERS         158    59.0  55  \n",
       "1       DIPLOMA         150    60.0  75  \n",
       "2    HIGHSCHOOL         130    74.0  50  \n",
       "3    HIGHSCHOOL         120     NaN  44  \n",
       "4    HIGHSCHOOL         122    91.0  80  "
      ]
     },
     "execution_count": 19,
     "metadata": {},
     "output_type": "execute_result"
    }
   ],
   "source": [
    "df_student.head()"
   ]
  },
  {
   "cell_type": "code",
   "execution_count": 20,
   "id": "16a53de8",
   "metadata": {
    "ExecuteTime": {
     "end_time": "2025-09-16T18:52:01.904010Z",
     "start_time": "2025-09-16T18:52:01.896809Z"
    }
   },
   "outputs": [
    {
     "data": {
      "text/plain": [
       "fNAME\n",
       "Grethe      2\n",
       "Chinedu     2\n",
       "Hanna       2\n",
       "Odd         2\n",
       "Bjørn       2\n",
       "           ..\n",
       "Clara       1\n",
       "Julian      1\n",
       "Sophie      1\n",
       "Leon        1\n",
       "Mohammed    1\n",
       "Name: count, Length: 71, dtype: int64"
      ]
     },
     "execution_count": 20,
     "metadata": {},
     "output_type": "execute_result"
    }
   ],
   "source": [
    "df_student['fNAME'].value_counts()"
   ]
  },
  {
   "cell_type": "code",
   "execution_count": 21,
   "id": "30cf9218",
   "metadata": {
    "ExecuteTime": {
     "end_time": "2025-09-16T18:52:01.913653Z",
     "start_time": "2025-09-16T18:52:01.905182Z"
    }
   },
   "outputs": [
    {
     "data": {
      "text/html": [
       "<div>\n",
       "<style scoped>\n",
       "    .dataframe tbody tr th:only-of-type {\n",
       "        vertical-align: middle;\n",
       "    }\n",
       "\n",
       "    .dataframe tbody tr th {\n",
       "        vertical-align: top;\n",
       "    }\n",
       "\n",
       "    .dataframe thead th {\n",
       "        text-align: right;\n",
       "    }\n",
       "</style>\n",
       "<table border=\"1\" class=\"dataframe\">\n",
       "  <thead>\n",
       "    <tr style=\"text-align: right;\">\n",
       "      <th></th>\n",
       "      <th>fNAME</th>\n",
       "      <th>count</th>\n",
       "    </tr>\n",
       "  </thead>\n",
       "  <tbody>\n",
       "    <tr>\n",
       "      <th>5</th>\n",
       "      <td>Bjørn</td>\n",
       "      <td>2</td>\n",
       "    </tr>\n",
       "    <tr>\n",
       "      <th>9</th>\n",
       "      <td>Chinedu</td>\n",
       "      <td>2</td>\n",
       "    </tr>\n",
       "    <tr>\n",
       "      <th>15</th>\n",
       "      <td>Emma</td>\n",
       "      <td>2</td>\n",
       "    </tr>\n",
       "    <tr>\n",
       "      <th>18</th>\n",
       "      <td>Grethe</td>\n",
       "      <td>2</td>\n",
       "    </tr>\n",
       "    <tr>\n",
       "      <th>20</th>\n",
       "      <td>Hanna</td>\n",
       "      <td>2</td>\n",
       "    </tr>\n",
       "    <tr>\n",
       "      <th>46</th>\n",
       "      <td>Odd</td>\n",
       "      <td>2</td>\n",
       "    </tr>\n",
       "  </tbody>\n",
       "</table>\n",
       "</div>"
      ],
      "text/plain": [
       "      fNAME  count\n",
       "5     Bjørn      2\n",
       "9   Chinedu      2\n",
       "15     Emma      2\n",
       "18   Grethe      2\n",
       "20    Hanna      2\n",
       "46      Odd      2"
      ]
     },
     "execution_count": 21,
     "metadata": {},
     "output_type": "execute_result"
    }
   ],
   "source": [
    "(   \n",
    "    df_student\n",
    "    .groupby('fNAME')['fNAME']\n",
    "    .size()\n",
    "    .reset_index(name='count')\n",
    "    .query(\"count > 1\")\n",
    ")"
   ]
  },
  {
   "cell_type": "code",
   "execution_count": 22,
   "id": "1057d80e",
   "metadata": {
    "ExecuteTime": {
     "end_time": "2025-09-16T18:52:01.926752Z",
     "start_time": "2025-09-16T18:52:01.914728Z"
    },
    "scrolled": true
   },
   "outputs": [
    {
     "data": {
      "text/html": [
       "<div>\n",
       "<style scoped>\n",
       "    .dataframe tbody tr th:only-of-type {\n",
       "        vertical-align: middle;\n",
       "    }\n",
       "\n",
       "    .dataframe tbody tr th {\n",
       "        vertical-align: top;\n",
       "    }\n",
       "\n",
       "    .dataframe thead th {\n",
       "        text-align: right;\n",
       "    }\n",
       "</style>\n",
       "<table border=\"1\" class=\"dataframe\">\n",
       "  <thead>\n",
       "    <tr style=\"text-align: right;\">\n",
       "      <th></th>\n",
       "      <th>fNAME</th>\n",
       "      <th>lNAME</th>\n",
       "      <th>Age</th>\n",
       "      <th>gender</th>\n",
       "      <th>country</th>\n",
       "      <th>residence</th>\n",
       "      <th>entryEXAM</th>\n",
       "      <th>prevEducation</th>\n",
       "      <th>studyHOURS</th>\n",
       "      <th>Python</th>\n",
       "      <th>DB</th>\n",
       "    </tr>\n",
       "  </thead>\n",
       "  <tbody>\n",
       "    <tr>\n",
       "      <th>8</th>\n",
       "      <td>Bjørn</td>\n",
       "      <td>Larsen</td>\n",
       "      <td>31</td>\n",
       "      <td>M</td>\n",
       "      <td>NORWAY</td>\n",
       "      <td>BI Residence</td>\n",
       "      <td>88</td>\n",
       "      <td>BACHELORS</td>\n",
       "      <td>156</td>\n",
       "      <td>80.0</td>\n",
       "      <td>89</td>\n",
       "    </tr>\n",
       "    <tr>\n",
       "      <th>52</th>\n",
       "      <td>Bjørn</td>\n",
       "      <td>Pedersen</td>\n",
       "      <td>21</td>\n",
       "      <td>F</td>\n",
       "      <td>NORWAY</td>\n",
       "      <td>BI Residence</td>\n",
       "      <td>70</td>\n",
       "      <td>HIGHSCHOOL</td>\n",
       "      <td>138</td>\n",
       "      <td>69.0</td>\n",
       "      <td>47</td>\n",
       "    </tr>\n",
       "    <tr>\n",
       "      <th>53</th>\n",
       "      <td>Chinedu</td>\n",
       "      <td>Morison</td>\n",
       "      <td>36</td>\n",
       "      <td>M</td>\n",
       "      <td>NIGERIA</td>\n",
       "      <td>Private</td>\n",
       "      <td>28</td>\n",
       "      <td>DIPLOMA</td>\n",
       "      <td>120</td>\n",
       "      <td>15.0</td>\n",
       "      <td>67</td>\n",
       "    </tr>\n",
       "    <tr>\n",
       "      <th>55</th>\n",
       "      <td>Chinedu</td>\n",
       "      <td>Okafor</td>\n",
       "      <td>69</td>\n",
       "      <td>M</td>\n",
       "      <td>NIGERIA</td>\n",
       "      <td>Private</td>\n",
       "      <td>94</td>\n",
       "      <td>DOCTORATE</td>\n",
       "      <td>160</td>\n",
       "      <td>87.0</td>\n",
       "      <td>88</td>\n",
       "    </tr>\n",
       "    <tr>\n",
       "      <th>10</th>\n",
       "      <td>Emma</td>\n",
       "      <td>de Vries</td>\n",
       "      <td>34</td>\n",
       "      <td>F</td>\n",
       "      <td>NETHERLANDS</td>\n",
       "      <td>BI Residence</td>\n",
       "      <td>65</td>\n",
       "      <td>BACHELORS</td>\n",
       "      <td>156</td>\n",
       "      <td>79.0</td>\n",
       "      <td>58</td>\n",
       "    </tr>\n",
       "    <tr>\n",
       "      <th>70</th>\n",
       "      <td>Emma</td>\n",
       "      <td>Janssen</td>\n",
       "      <td>39</td>\n",
       "      <td>F</td>\n",
       "      <td>NETHERLANDS</td>\n",
       "      <td>Private</td>\n",
       "      <td>81</td>\n",
       "      <td>MASTERS</td>\n",
       "      <td>160</td>\n",
       "      <td>80.0</td>\n",
       "      <td>71</td>\n",
       "    </tr>\n",
       "    <tr>\n",
       "      <th>13</th>\n",
       "      <td>Grethe</td>\n",
       "      <td>Myklebust</td>\n",
       "      <td>40</td>\n",
       "      <td>F</td>\n",
       "      <td>NORWAY</td>\n",
       "      <td>Private</td>\n",
       "      <td>77</td>\n",
       "      <td>DIPLOMA</td>\n",
       "      <td>144</td>\n",
       "      <td>70.0</td>\n",
       "      <td>76</td>\n",
       "    </tr>\n",
       "    <tr>\n",
       "      <th>43</th>\n",
       "      <td>Grethe</td>\n",
       "      <td>Brekke</td>\n",
       "      <td>43</td>\n",
       "      <td>F</td>\n",
       "      <td>NORWAY</td>\n",
       "      <td>Private</td>\n",
       "      <td>96</td>\n",
       "      <td>MASTERS</td>\n",
       "      <td>158</td>\n",
       "      <td>87.0</td>\n",
       "      <td>92</td>\n",
       "    </tr>\n",
       "    <tr>\n",
       "      <th>16</th>\n",
       "      <td>Hanna</td>\n",
       "      <td>Andresen</td>\n",
       "      <td>45</td>\n",
       "      <td>F</td>\n",
       "      <td>NORWAY</td>\n",
       "      <td>Private</td>\n",
       "      <td>85</td>\n",
       "      <td>BACHELORS</td>\n",
       "      <td>156</td>\n",
       "      <td>87.0</td>\n",
       "      <td>82</td>\n",
       "    </tr>\n",
       "    <tr>\n",
       "      <th>21</th>\n",
       "      <td>Hanna</td>\n",
       "      <td>Isaksen</td>\n",
       "      <td>24</td>\n",
       "      <td>F</td>\n",
       "      <td>NORWAY</td>\n",
       "      <td>BI Residence</td>\n",
       "      <td>50</td>\n",
       "      <td>HIGHSCHOOL</td>\n",
       "      <td>114</td>\n",
       "      <td>30.0</td>\n",
       "      <td>50</td>\n",
       "    </tr>\n",
       "    <tr>\n",
       "      <th>12</th>\n",
       "      <td>Odd</td>\n",
       "      <td>Knudsen</td>\n",
       "      <td>38</td>\n",
       "      <td>M</td>\n",
       "      <td>NORWAY</td>\n",
       "      <td>Private</td>\n",
       "      <td>91</td>\n",
       "      <td>DIPLOMA</td>\n",
       "      <td>156</td>\n",
       "      <td>85.0</td>\n",
       "      <td>99</td>\n",
       "    </tr>\n",
       "    <tr>\n",
       "      <th>24</th>\n",
       "      <td>Odd</td>\n",
       "      <td>Ahmed</td>\n",
       "      <td>30</td>\n",
       "      <td>M</td>\n",
       "      <td>NORWAY</td>\n",
       "      <td>BI Residence</td>\n",
       "      <td>82</td>\n",
       "      <td>BACHELORS</td>\n",
       "      <td>156</td>\n",
       "      <td>82.0</td>\n",
       "      <td>65</td>\n",
       "    </tr>\n",
       "  </tbody>\n",
       "</table>\n",
       "</div>"
      ],
      "text/plain": [
       "      fNAME      lNAME  Age gender      country     residence  entryEXAM  \\\n",
       "8     Bjørn     Larsen   31      M       NORWAY  BI Residence         88   \n",
       "52    Bjørn   Pedersen   21      F       NORWAY  BI Residence         70   \n",
       "53  Chinedu    Morison   36      M      NIGERIA       Private         28   \n",
       "55  Chinedu     Okafor   69      M      NIGERIA       Private         94   \n",
       "10     Emma   de Vries   34      F  NETHERLANDS  BI Residence         65   \n",
       "70     Emma    Janssen   39      F  NETHERLANDS       Private         81   \n",
       "13   Grethe  Myklebust   40      F       NORWAY       Private         77   \n",
       "43   Grethe     Brekke   43      F       NORWAY       Private         96   \n",
       "16    Hanna   Andresen   45      F       NORWAY       Private         85   \n",
       "21    Hanna    Isaksen   24      F       NORWAY  BI Residence         50   \n",
       "12      Odd    Knudsen   38      M       NORWAY       Private         91   \n",
       "24      Odd      Ahmed   30      M       NORWAY  BI Residence         82   \n",
       "\n",
       "   prevEducation  studyHOURS  Python  DB  \n",
       "8      BACHELORS         156    80.0  89  \n",
       "52    HIGHSCHOOL         138    69.0  47  \n",
       "53       DIPLOMA         120    15.0  67  \n",
       "55     DOCTORATE         160    87.0  88  \n",
       "10     BACHELORS         156    79.0  58  \n",
       "70       MASTERS         160    80.0  71  \n",
       "13       DIPLOMA         144    70.0  76  \n",
       "43       MASTERS         158    87.0  92  \n",
       "16     BACHELORS         156    87.0  82  \n",
       "21    HIGHSCHOOL         114    30.0  50  \n",
       "12       DIPLOMA         156    85.0  99  \n",
       "24     BACHELORS         156    82.0  65  "
      ]
     },
     "execution_count": 22,
     "metadata": {},
     "output_type": "execute_result"
    }
   ],
   "source": [
    "df_student[\n",
    "    df_student\n",
    "    .groupby('fNAME')['fNAME']\n",
    "    .transform('count') > 1\n",
    "].sort_values('fNAME')"
   ]
  },
  {
   "cell_type": "code",
   "execution_count": 23,
   "id": "b006da61",
   "metadata": {
    "ExecuteTime": {
     "end_time": "2025-09-16T18:52:01.939029Z",
     "start_time": "2025-09-16T18:52:01.928096Z"
    }
   },
   "outputs": [
    {
     "data": {
      "text/html": [
       "<div>\n",
       "<style scoped>\n",
       "    .dataframe tbody tr th:only-of-type {\n",
       "        vertical-align: middle;\n",
       "    }\n",
       "\n",
       "    .dataframe tbody tr th {\n",
       "        vertical-align: top;\n",
       "    }\n",
       "\n",
       "    .dataframe thead th {\n",
       "        text-align: right;\n",
       "    }\n",
       "</style>\n",
       "<table border=\"1\" class=\"dataframe\">\n",
       "  <thead>\n",
       "    <tr style=\"text-align: right;\">\n",
       "      <th></th>\n",
       "      <th>fNAME</th>\n",
       "      <th>lNAME</th>\n",
       "      <th>Age</th>\n",
       "      <th>gender</th>\n",
       "      <th>country</th>\n",
       "      <th>residence</th>\n",
       "      <th>entryEXAM</th>\n",
       "      <th>prevEducation</th>\n",
       "      <th>studyHOURS</th>\n",
       "      <th>Python</th>\n",
       "      <th>DB</th>\n",
       "    </tr>\n",
       "  </thead>\n",
       "  <tbody>\n",
       "    <tr>\n",
       "      <th>8</th>\n",
       "      <td>Bjørn</td>\n",
       "      <td>Larsen</td>\n",
       "      <td>31</td>\n",
       "      <td>M</td>\n",
       "      <td>NORWAY</td>\n",
       "      <td>BI Residence</td>\n",
       "      <td>88</td>\n",
       "      <td>BACHELORS</td>\n",
       "      <td>156</td>\n",
       "      <td>80.0</td>\n",
       "      <td>89</td>\n",
       "    </tr>\n",
       "    <tr>\n",
       "      <th>52</th>\n",
       "      <td>Bjørn</td>\n",
       "      <td>Pedersen</td>\n",
       "      <td>21</td>\n",
       "      <td>F</td>\n",
       "      <td>NORWAY</td>\n",
       "      <td>BI Residence</td>\n",
       "      <td>70</td>\n",
       "      <td>HIGHSCHOOL</td>\n",
       "      <td>138</td>\n",
       "      <td>69.0</td>\n",
       "      <td>47</td>\n",
       "    </tr>\n",
       "    <tr>\n",
       "      <th>53</th>\n",
       "      <td>Chinedu</td>\n",
       "      <td>Morison</td>\n",
       "      <td>36</td>\n",
       "      <td>M</td>\n",
       "      <td>NIGERIA</td>\n",
       "      <td>Private</td>\n",
       "      <td>28</td>\n",
       "      <td>DIPLOMA</td>\n",
       "      <td>120</td>\n",
       "      <td>15.0</td>\n",
       "      <td>67</td>\n",
       "    </tr>\n",
       "    <tr>\n",
       "      <th>55</th>\n",
       "      <td>Chinedu</td>\n",
       "      <td>Okafor</td>\n",
       "      <td>69</td>\n",
       "      <td>M</td>\n",
       "      <td>NIGERIA</td>\n",
       "      <td>Private</td>\n",
       "      <td>94</td>\n",
       "      <td>DOCTORATE</td>\n",
       "      <td>160</td>\n",
       "      <td>87.0</td>\n",
       "      <td>88</td>\n",
       "    </tr>\n",
       "    <tr>\n",
       "      <th>10</th>\n",
       "      <td>Emma</td>\n",
       "      <td>de Vries</td>\n",
       "      <td>34</td>\n",
       "      <td>F</td>\n",
       "      <td>NETHERLANDS</td>\n",
       "      <td>BI Residence</td>\n",
       "      <td>65</td>\n",
       "      <td>BACHELORS</td>\n",
       "      <td>156</td>\n",
       "      <td>79.0</td>\n",
       "      <td>58</td>\n",
       "    </tr>\n",
       "    <tr>\n",
       "      <th>70</th>\n",
       "      <td>Emma</td>\n",
       "      <td>Janssen</td>\n",
       "      <td>39</td>\n",
       "      <td>F</td>\n",
       "      <td>NETHERLANDS</td>\n",
       "      <td>Private</td>\n",
       "      <td>81</td>\n",
       "      <td>MASTERS</td>\n",
       "      <td>160</td>\n",
       "      <td>80.0</td>\n",
       "      <td>71</td>\n",
       "    </tr>\n",
       "    <tr>\n",
       "      <th>13</th>\n",
       "      <td>Grethe</td>\n",
       "      <td>Myklebust</td>\n",
       "      <td>40</td>\n",
       "      <td>F</td>\n",
       "      <td>NORWAY</td>\n",
       "      <td>Private</td>\n",
       "      <td>77</td>\n",
       "      <td>DIPLOMA</td>\n",
       "      <td>144</td>\n",
       "      <td>70.0</td>\n",
       "      <td>76</td>\n",
       "    </tr>\n",
       "    <tr>\n",
       "      <th>43</th>\n",
       "      <td>Grethe</td>\n",
       "      <td>Brekke</td>\n",
       "      <td>43</td>\n",
       "      <td>F</td>\n",
       "      <td>NORWAY</td>\n",
       "      <td>Private</td>\n",
       "      <td>96</td>\n",
       "      <td>MASTERS</td>\n",
       "      <td>158</td>\n",
       "      <td>87.0</td>\n",
       "      <td>92</td>\n",
       "    </tr>\n",
       "    <tr>\n",
       "      <th>16</th>\n",
       "      <td>Hanna</td>\n",
       "      <td>Andresen</td>\n",
       "      <td>45</td>\n",
       "      <td>F</td>\n",
       "      <td>NORWAY</td>\n",
       "      <td>Private</td>\n",
       "      <td>85</td>\n",
       "      <td>BACHELORS</td>\n",
       "      <td>156</td>\n",
       "      <td>87.0</td>\n",
       "      <td>82</td>\n",
       "    </tr>\n",
       "    <tr>\n",
       "      <th>21</th>\n",
       "      <td>Hanna</td>\n",
       "      <td>Isaksen</td>\n",
       "      <td>24</td>\n",
       "      <td>F</td>\n",
       "      <td>NORWAY</td>\n",
       "      <td>BI Residence</td>\n",
       "      <td>50</td>\n",
       "      <td>HIGHSCHOOL</td>\n",
       "      <td>114</td>\n",
       "      <td>30.0</td>\n",
       "      <td>50</td>\n",
       "    </tr>\n",
       "    <tr>\n",
       "      <th>12</th>\n",
       "      <td>Odd</td>\n",
       "      <td>Knudsen</td>\n",
       "      <td>38</td>\n",
       "      <td>M</td>\n",
       "      <td>NORWAY</td>\n",
       "      <td>Private</td>\n",
       "      <td>91</td>\n",
       "      <td>DIPLOMA</td>\n",
       "      <td>156</td>\n",
       "      <td>85.0</td>\n",
       "      <td>99</td>\n",
       "    </tr>\n",
       "    <tr>\n",
       "      <th>24</th>\n",
       "      <td>Odd</td>\n",
       "      <td>Ahmed</td>\n",
       "      <td>30</td>\n",
       "      <td>M</td>\n",
       "      <td>NORWAY</td>\n",
       "      <td>BI Residence</td>\n",
       "      <td>82</td>\n",
       "      <td>BACHELORS</td>\n",
       "      <td>156</td>\n",
       "      <td>82.0</td>\n",
       "      <td>65</td>\n",
       "    </tr>\n",
       "  </tbody>\n",
       "</table>\n",
       "</div>"
      ],
      "text/plain": [
       "      fNAME      lNAME  Age gender      country     residence  entryEXAM  \\\n",
       "8     Bjørn     Larsen   31      M       NORWAY  BI Residence         88   \n",
       "52    Bjørn   Pedersen   21      F       NORWAY  BI Residence         70   \n",
       "53  Chinedu    Morison   36      M      NIGERIA       Private         28   \n",
       "55  Chinedu     Okafor   69      M      NIGERIA       Private         94   \n",
       "10     Emma   de Vries   34      F  NETHERLANDS  BI Residence         65   \n",
       "70     Emma    Janssen   39      F  NETHERLANDS       Private         81   \n",
       "13   Grethe  Myklebust   40      F       NORWAY       Private         77   \n",
       "43   Grethe     Brekke   43      F       NORWAY       Private         96   \n",
       "16    Hanna   Andresen   45      F       NORWAY       Private         85   \n",
       "21    Hanna    Isaksen   24      F       NORWAY  BI Residence         50   \n",
       "12      Odd    Knudsen   38      M       NORWAY       Private         91   \n",
       "24      Odd      Ahmed   30      M       NORWAY  BI Residence         82   \n",
       "\n",
       "   prevEducation  studyHOURS  Python  DB  \n",
       "8      BACHELORS         156    80.0  89  \n",
       "52    HIGHSCHOOL         138    69.0  47  \n",
       "53       DIPLOMA         120    15.0  67  \n",
       "55     DOCTORATE         160    87.0  88  \n",
       "10     BACHELORS         156    79.0  58  \n",
       "70       MASTERS         160    80.0  71  \n",
       "13       DIPLOMA         144    70.0  76  \n",
       "43       MASTERS         158    87.0  92  \n",
       "16     BACHELORS         156    87.0  82  \n",
       "21    HIGHSCHOOL         114    30.0  50  \n",
       "12       DIPLOMA         156    85.0  99  \n",
       "24     BACHELORS         156    82.0  65  "
      ]
     },
     "execution_count": 23,
     "metadata": {},
     "output_type": "execute_result"
    }
   ],
   "source": [
    "df_student[df_student['fNAME'].duplicated(keep=False)].sort_values('fNAME')"
   ]
  },
  {
   "cell_type": "markdown",
   "id": "f45685d6",
   "metadata": {
    "ExecuteTime": {
     "end_time": "2025-09-16T18:52:01.944576Z",
     "start_time": "2025-09-16T18:52:01.940361Z"
    }
   },
   "source": [
    "No Duplicates"
   ]
  },
  {
   "cell_type": "markdown",
   "id": "8eaca37e",
   "metadata": {},
   "source": [
    "----------------"
   ]
  },
  {
   "cell_type": "markdown",
   "id": "05c20509",
   "metadata": {},
   "source": [
    "# Part 2 – Missing Data"
   ]
  },
  {
   "cell_type": "markdown",
   "id": "a433f80f",
   "metadata": {},
   "source": [
    "## 1. Identify missing values"
   ]
  },
  {
   "cell_type": "code",
   "execution_count": 25,
   "id": "8dcf17ca",
   "metadata": {
    "ExecuteTime": {
     "end_time": "2025-09-16T18:52:15.456698Z",
     "start_time": "2025-09-16T18:52:15.451217Z"
    }
   },
   "outputs": [
    {
     "data": {
      "text/plain": [
       "fNAME            0\n",
       "lNAME            0\n",
       "Age              0\n",
       "gender           0\n",
       "country          0\n",
       "residence        0\n",
       "entryEXAM        0\n",
       "prevEducation    0\n",
       "studyHOURS       0\n",
       "Python           2\n",
       "DB               0\n",
       "dtype: int64"
      ]
     },
     "execution_count": 25,
     "metadata": {},
     "output_type": "execute_result"
    }
   ],
   "source": [
    "df_student.isnull().sum()"
   ]
  },
  {
   "cell_type": "markdown",
   "id": "699318f2",
   "metadata": {},
   "source": [
    "## 2. Impute missing values\n"
   ]
  },
  {
   "cell_type": "code",
   "execution_count": 27,
   "id": "afc1f45a",
   "metadata": {
    "ExecuteTime": {
     "end_time": "2025-09-16T18:52:18.306364Z",
     "start_time": "2025-09-16T18:52:18.298012Z"
    }
   },
   "outputs": [
    {
     "data": {
      "text/html": [
       "<div>\n",
       "<style scoped>\n",
       "    .dataframe tbody tr th:only-of-type {\n",
       "        vertical-align: middle;\n",
       "    }\n",
       "\n",
       "    .dataframe tbody tr th {\n",
       "        vertical-align: top;\n",
       "    }\n",
       "\n",
       "    .dataframe thead th {\n",
       "        text-align: right;\n",
       "    }\n",
       "</style>\n",
       "<table border=\"1\" class=\"dataframe\">\n",
       "  <thead>\n",
       "    <tr style=\"text-align: right;\">\n",
       "      <th></th>\n",
       "      <th>Python</th>\n",
       "    </tr>\n",
       "  </thead>\n",
       "  <tbody>\n",
       "    <tr>\n",
       "      <th>count</th>\n",
       "      <td>77.000000</td>\n",
       "    </tr>\n",
       "    <tr>\n",
       "      <th>mean</th>\n",
       "      <td>75.831169</td>\n",
       "    </tr>\n",
       "    <tr>\n",
       "      <th>std</th>\n",
       "      <td>15.206822</td>\n",
       "    </tr>\n",
       "    <tr>\n",
       "      <th>min</th>\n",
       "      <td>15.000000</td>\n",
       "    </tr>\n",
       "    <tr>\n",
       "      <th>25%</th>\n",
       "      <td>72.000000</td>\n",
       "    </tr>\n",
       "    <tr>\n",
       "      <th>50%</th>\n",
       "      <td>81.000000</td>\n",
       "    </tr>\n",
       "    <tr>\n",
       "      <th>75%</th>\n",
       "      <td>85.000000</td>\n",
       "    </tr>\n",
       "    <tr>\n",
       "      <th>max</th>\n",
       "      <td>91.000000</td>\n",
       "    </tr>\n",
       "  </tbody>\n",
       "</table>\n",
       "</div>"
      ],
      "text/plain": [
       "          Python\n",
       "count  77.000000\n",
       "mean   75.831169\n",
       "std    15.206822\n",
       "min    15.000000\n",
       "25%    72.000000\n",
       "50%    81.000000\n",
       "75%    85.000000\n",
       "max    91.000000"
      ]
     },
     "execution_count": 27,
     "metadata": {},
     "output_type": "execute_result"
    }
   ],
   "source": [
    "df_student[['Python']].describe()"
   ]
  },
  {
   "cell_type": "code",
   "execution_count": 28,
   "id": "16bba6b7",
   "metadata": {
    "ExecuteTime": {
     "end_time": "2025-09-16T18:52:19.800187Z",
     "start_time": "2025-09-16T18:52:19.796371Z"
    }
   },
   "outputs": [],
   "source": [
    "df_student['Python'] = df_student['Python'].fillna(int(df_student['Python'].mean())).astype(int)"
   ]
  },
  {
   "cell_type": "markdown",
   "id": "83bc08c1",
   "metadata": {},
   "source": [
    "--------"
   ]
  },
  {
   "cell_type": "markdown",
   "id": "d405bbf8",
   "metadata": {},
   "source": [
    "# Part 3 – Outliers\n"
   ]
  },
  {
   "cell_type": "markdown",
   "id": "99671acf",
   "metadata": {},
   "source": [
    "## 1. Detect outliers\n"
   ]
  },
  {
   "cell_type": "code",
   "execution_count": 29,
   "id": "967abd10",
   "metadata": {
    "ExecuteTime": {
     "end_time": "2025-09-16T18:52:26.848106Z",
     "start_time": "2025-09-16T18:52:26.835902Z"
    }
   },
   "outputs": [
    {
     "data": {
      "text/html": [
       "<div>\n",
       "<style scoped>\n",
       "    .dataframe tbody tr th:only-of-type {\n",
       "        vertical-align: middle;\n",
       "    }\n",
       "\n",
       "    .dataframe tbody tr th {\n",
       "        vertical-align: top;\n",
       "    }\n",
       "\n",
       "    .dataframe thead th {\n",
       "        text-align: right;\n",
       "    }\n",
       "</style>\n",
       "<table border=\"1\" class=\"dataframe\">\n",
       "  <thead>\n",
       "    <tr style=\"text-align: right;\">\n",
       "      <th></th>\n",
       "      <th>Age</th>\n",
       "      <th>entryEXAM</th>\n",
       "      <th>studyHOURS</th>\n",
       "      <th>Python</th>\n",
       "      <th>DB</th>\n",
       "    </tr>\n",
       "  </thead>\n",
       "  <tbody>\n",
       "    <tr>\n",
       "      <th>count</th>\n",
       "      <td>77.000000</td>\n",
       "      <td>77.000000</td>\n",
       "      <td>77.000000</td>\n",
       "      <td>77.000000</td>\n",
       "      <td>77.000000</td>\n",
       "    </tr>\n",
       "    <tr>\n",
       "      <th>mean</th>\n",
       "      <td>35.207792</td>\n",
       "      <td>76.753247</td>\n",
       "      <td>149.714286</td>\n",
       "      <td>75.831169</td>\n",
       "      <td>69.467532</td>\n",
       "    </tr>\n",
       "    <tr>\n",
       "      <th>std</th>\n",
       "      <td>10.341966</td>\n",
       "      <td>16.475784</td>\n",
       "      <td>12.743272</td>\n",
       "      <td>15.206822</td>\n",
       "      <td>17.033701</td>\n",
       "    </tr>\n",
       "    <tr>\n",
       "      <th>min</th>\n",
       "      <td>21.000000</td>\n",
       "      <td>28.000000</td>\n",
       "      <td>114.000000</td>\n",
       "      <td>15.000000</td>\n",
       "      <td>30.000000</td>\n",
       "    </tr>\n",
       "    <tr>\n",
       "      <th>25%</th>\n",
       "      <td>27.000000</td>\n",
       "      <td>69.000000</td>\n",
       "      <td>144.000000</td>\n",
       "      <td>72.000000</td>\n",
       "      <td>56.000000</td>\n",
       "    </tr>\n",
       "    <tr>\n",
       "      <th>50%</th>\n",
       "      <td>33.000000</td>\n",
       "      <td>80.000000</td>\n",
       "      <td>156.000000</td>\n",
       "      <td>81.000000</td>\n",
       "      <td>71.000000</td>\n",
       "    </tr>\n",
       "    <tr>\n",
       "      <th>75%</th>\n",
       "      <td>42.000000</td>\n",
       "      <td>90.000000</td>\n",
       "      <td>158.000000</td>\n",
       "      <td>85.000000</td>\n",
       "      <td>83.000000</td>\n",
       "    </tr>\n",
       "    <tr>\n",
       "      <th>max</th>\n",
       "      <td>71.000000</td>\n",
       "      <td>98.000000</td>\n",
       "      <td>160.000000</td>\n",
       "      <td>91.000000</td>\n",
       "      <td>100.000000</td>\n",
       "    </tr>\n",
       "  </tbody>\n",
       "</table>\n",
       "</div>"
      ],
      "text/plain": [
       "             Age  entryEXAM  studyHOURS     Python          DB\n",
       "count  77.000000  77.000000   77.000000  77.000000   77.000000\n",
       "mean   35.207792  76.753247  149.714286  75.831169   69.467532\n",
       "std    10.341966  16.475784   12.743272  15.206822   17.033701\n",
       "min    21.000000  28.000000  114.000000  15.000000   30.000000\n",
       "25%    27.000000  69.000000  144.000000  72.000000   56.000000\n",
       "50%    33.000000  80.000000  156.000000  81.000000   71.000000\n",
       "75%    42.000000  90.000000  158.000000  85.000000   83.000000\n",
       "max    71.000000  98.000000  160.000000  91.000000  100.000000"
      ]
     },
     "execution_count": 29,
     "metadata": {},
     "output_type": "execute_result"
    }
   ],
   "source": [
    "df_student.describe()"
   ]
  },
  {
   "cell_type": "code",
   "execution_count": 30,
   "id": "01c3df47",
   "metadata": {
    "ExecuteTime": {
     "end_time": "2025-09-16T18:52:27.825346Z",
     "start_time": "2025-09-16T18:52:27.678279Z"
    }
   },
   "outputs": [
    {
     "data": {
      "image/png": "[encoded data removed]",
      "text/plain": [
       "<Figure size 640x480 with 1 Axes>"
      ]
     },
     "metadata": {},
     "output_type": "display_data"
    }
   ],
   "source": [
    "df_student.plot(kind='box')\n",
    "plt.show()"
   ]
  },
  {
   "cell_type": "code",
   "execution_count": 31,
   "id": "eb26aa8a",
   "metadata": {
    "ExecuteTime": {
     "end_time": "2025-09-16T18:52:28.841777Z",
     "start_time": "2025-09-16T18:52:28.830773Z"
    }
   },
   "outputs": [
    {
     "name": "stdout",
     "output_type": "stream",
     "text": [
      " lower: 52.5\n",
      " upper: 104.5\n"
     ]
    },
    {
     "data": {
      "text/html": [
       "<div>\n",
       "<style scoped>\n",
       "    .dataframe tbody tr th:only-of-type {\n",
       "        vertical-align: middle;\n",
       "    }\n",
       "\n",
       "    .dataframe tbody tr th {\n",
       "        vertical-align: top;\n",
       "    }\n",
       "\n",
       "    .dataframe thead th {\n",
       "        text-align: right;\n",
       "    }\n",
       "</style>\n",
       "<table border=\"1\" class=\"dataframe\">\n",
       "  <thead>\n",
       "    <tr style=\"text-align: right;\">\n",
       "      <th></th>\n",
       "      <th>fNAME</th>\n",
       "      <th>lNAME</th>\n",
       "      <th>Age</th>\n",
       "      <th>gender</th>\n",
       "      <th>country</th>\n",
       "      <th>residence</th>\n",
       "      <th>entryEXAM</th>\n",
       "      <th>prevEducation</th>\n",
       "      <th>studyHOURS</th>\n",
       "      <th>Python</th>\n",
       "      <th>DB</th>\n",
       "    </tr>\n",
       "  </thead>\n",
       "  <tbody>\n",
       "    <tr>\n",
       "      <th>20</th>\n",
       "      <td>Prof</td>\n",
       "      <td>Birkeland</td>\n",
       "      <td>22</td>\n",
       "      <td>M</td>\n",
       "      <td>NORWAY</td>\n",
       "      <td>BI Residence</td>\n",
       "      <td>45</td>\n",
       "      <td>HIGHSCHOOL</td>\n",
       "      <td>116</td>\n",
       "      <td>33</td>\n",
       "      <td>30</td>\n",
       "    </tr>\n",
       "    <tr>\n",
       "      <th>21</th>\n",
       "      <td>Hanna</td>\n",
       "      <td>Isaksen</td>\n",
       "      <td>24</td>\n",
       "      <td>F</td>\n",
       "      <td>NORWAY</td>\n",
       "      <td>BI Residence</td>\n",
       "      <td>50</td>\n",
       "      <td>HIGHSCHOOL</td>\n",
       "      <td>114</td>\n",
       "      <td>30</td>\n",
       "      <td>50</td>\n",
       "    </tr>\n",
       "    <tr>\n",
       "      <th>32</th>\n",
       "      <td>Perry</td>\n",
       "      <td>Rønning</td>\n",
       "      <td>71</td>\n",
       "      <td>F</td>\n",
       "      <td>NORWAY</td>\n",
       "      <td>Private</td>\n",
       "      <td>30</td>\n",
       "      <td>DOCTORATE</td>\n",
       "      <td>120</td>\n",
       "      <td>31</td>\n",
       "      <td>42</td>\n",
       "    </tr>\n",
       "    <tr>\n",
       "      <th>48</th>\n",
       "      <td>Jenny</td>\n",
       "      <td>Kristoffersen</td>\n",
       "      <td>26</td>\n",
       "      <td>F</td>\n",
       "      <td>NORWAY</td>\n",
       "      <td>BI Residence</td>\n",
       "      <td>68</td>\n",
       "      <td>HIGHSCHOOL</td>\n",
       "      <td>124</td>\n",
       "      <td>48</td>\n",
       "      <td>62</td>\n",
       "    </tr>\n",
       "    <tr>\n",
       "      <th>49</th>\n",
       "      <td>Thea</td>\n",
       "      <td>Knutsen</td>\n",
       "      <td>28</td>\n",
       "      <td>M</td>\n",
       "      <td>NORWAY</td>\n",
       "      <td>BI Residence</td>\n",
       "      <td>69</td>\n",
       "      <td>HIGHSCHOOL</td>\n",
       "      <td>120</td>\n",
       "      <td>45</td>\n",
       "      <td>70</td>\n",
       "    </tr>\n",
       "    <tr>\n",
       "      <th>53</th>\n",
       "      <td>Chinedu</td>\n",
       "      <td>Morison</td>\n",
       "      <td>36</td>\n",
       "      <td>M</td>\n",
       "      <td>NIGERIA</td>\n",
       "      <td>Private</td>\n",
       "      <td>28</td>\n",
       "      <td>DIPLOMA</td>\n",
       "      <td>120</td>\n",
       "      <td>15</td>\n",
       "      <td>67</td>\n",
       "    </tr>\n",
       "  </tbody>\n",
       "</table>\n",
       "</div>"
      ],
      "text/plain": [
       "      fNAME          lNAME  Age gender  country     residence  entryEXAM  \\\n",
       "20     Prof      Birkeland   22      M   NORWAY  BI Residence         45   \n",
       "21    Hanna        Isaksen   24      F   NORWAY  BI Residence         50   \n",
       "32    Perry        Rønning   71      F   NORWAY       Private         30   \n",
       "48    Jenny  Kristoffersen   26      F   NORWAY  BI Residence         68   \n",
       "49     Thea        Knutsen   28      M   NORWAY  BI Residence         69   \n",
       "53  Chinedu        Morison   36      M  NIGERIA       Private         28   \n",
       "\n",
       "   prevEducation  studyHOURS  Python  DB  \n",
       "20    HIGHSCHOOL         116      33  30  \n",
       "21    HIGHSCHOOL         114      30  50  \n",
       "32     DOCTORATE         120      31  42  \n",
       "48    HIGHSCHOOL         124      48  62  \n",
       "49    HIGHSCHOOL         120      45  70  \n",
       "53       DIPLOMA         120      15  67  "
      ]
     },
     "execution_count": 31,
     "metadata": {},
     "output_type": "execute_result"
    }
   ],
   "source": [
    "Q1 = df_student['Python'].quantile(0.25)\n",
    "Q3 = df_student['Python'].quantile(0.75)\n",
    "IQR = Q3 - Q1\n",
    "\n",
    "lower = Q1 - 1.5 * IQR\n",
    "upper = Q3 + 1.5 * IQR\n",
    "\n",
    "print(f' lower: {lower}\\n', f'upper: {upper}')\n",
    "\n",
    "outliers_Python = df_student[(df_student['Python'] < lower) | (df_student['Python'] > upper)]\n",
    "outliers_Python"
   ]
  },
  {
   "cell_type": "code",
   "execution_count": 32,
   "id": "02ae2e8c",
   "metadata": {
    "ExecuteTime": {
     "end_time": "2025-09-16T18:52:33.934621Z",
     "start_time": "2025-09-16T18:52:33.841549Z"
    }
   },
   "outputs": [
    {
     "data": {
      "text/plain": [
       "<Axes: xlabel='Python'>"
      ]
     },
     "execution_count": 32,
     "metadata": {},
     "output_type": "execute_result"
    },
    {
     "data": {
      "image/png": "[encoded data removed]",
      "text/plain": [
       "<Figure size 640x480 with 1 Axes>"
      ]
     },
     "metadata": {},
     "output_type": "display_data"
    }
   ],
   "source": [
    "sns.boxplot(x='Python', data=df_student)"
   ]
  },
  {
   "cell_type": "code",
   "execution_count": 33,
   "id": "2941d99a",
   "metadata": {
    "ExecuteTime": {
     "end_time": "2025-09-16T18:52:34.755359Z",
     "start_time": "2025-09-16T18:52:34.744459Z"
    }
   },
   "outputs": [
    {
     "name": "stdout",
     "output_type": "stream",
     "text": [
      " lower: 123.0\n",
      " upper: 179.0\n"
     ]
    },
    {
     "data": {
      "text/html": [
       "<div>\n",
       "<style scoped>\n",
       "    .dataframe tbody tr th:only-of-type {\n",
       "        vertical-align: middle;\n",
       "    }\n",
       "\n",
       "    .dataframe tbody tr th {\n",
       "        vertical-align: top;\n",
       "    }\n",
       "\n",
       "    .dataframe thead th {\n",
       "        text-align: right;\n",
       "    }\n",
       "</style>\n",
       "<table border=\"1\" class=\"dataframe\">\n",
       "  <thead>\n",
       "    <tr style=\"text-align: right;\">\n",
       "      <th></th>\n",
       "      <th>fNAME</th>\n",
       "      <th>lNAME</th>\n",
       "      <th>Age</th>\n",
       "      <th>gender</th>\n",
       "      <th>country</th>\n",
       "      <th>residence</th>\n",
       "      <th>entryEXAM</th>\n",
       "      <th>prevEducation</th>\n",
       "      <th>studyHOURS</th>\n",
       "      <th>Python</th>\n",
       "      <th>DB</th>\n",
       "    </tr>\n",
       "  </thead>\n",
       "  <tbody>\n",
       "    <tr>\n",
       "      <th>3</th>\n",
       "      <td>Shoni</td>\n",
       "      <td>Hlongwane</td>\n",
       "      <td>22</td>\n",
       "      <td>F</td>\n",
       "      <td>RSA</td>\n",
       "      <td>Sognsvann</td>\n",
       "      <td>40</td>\n",
       "      <td>HIGHSCHOOL</td>\n",
       "      <td>120</td>\n",
       "      <td>75</td>\n",
       "      <td>44</td>\n",
       "    </tr>\n",
       "    <tr>\n",
       "      <th>4</th>\n",
       "      <td>Maria</td>\n",
       "      <td>Kedibone</td>\n",
       "      <td>23</td>\n",
       "      <td>F</td>\n",
       "      <td>SOUTH AFRICA</td>\n",
       "      <td>Sognsvann</td>\n",
       "      <td>65</td>\n",
       "      <td>HIGHSCHOOL</td>\n",
       "      <td>122</td>\n",
       "      <td>91</td>\n",
       "      <td>80</td>\n",
       "    </tr>\n",
       "    <tr>\n",
       "      <th>20</th>\n",
       "      <td>Prof</td>\n",
       "      <td>Birkeland</td>\n",
       "      <td>22</td>\n",
       "      <td>M</td>\n",
       "      <td>NORWAY</td>\n",
       "      <td>BI Residence</td>\n",
       "      <td>45</td>\n",
       "      <td>HIGHSCHOOL</td>\n",
       "      <td>116</td>\n",
       "      <td>33</td>\n",
       "      <td>30</td>\n",
       "    </tr>\n",
       "    <tr>\n",
       "      <th>21</th>\n",
       "      <td>Hanna</td>\n",
       "      <td>Isaksen</td>\n",
       "      <td>24</td>\n",
       "      <td>F</td>\n",
       "      <td>NORWAY</td>\n",
       "      <td>BI Residence</td>\n",
       "      <td>50</td>\n",
       "      <td>HIGHSCHOOL</td>\n",
       "      <td>114</td>\n",
       "      <td>30</td>\n",
       "      <td>50</td>\n",
       "    </tr>\n",
       "    <tr>\n",
       "      <th>32</th>\n",
       "      <td>Perry</td>\n",
       "      <td>Rønning</td>\n",
       "      <td>71</td>\n",
       "      <td>F</td>\n",
       "      <td>NORWAY</td>\n",
       "      <td>Private</td>\n",
       "      <td>30</td>\n",
       "      <td>DOCTORATE</td>\n",
       "      <td>120</td>\n",
       "      <td>31</td>\n",
       "      <td>42</td>\n",
       "    </tr>\n",
       "    <tr>\n",
       "      <th>49</th>\n",
       "      <td>Thea</td>\n",
       "      <td>Knutsen</td>\n",
       "      <td>28</td>\n",
       "      <td>M</td>\n",
       "      <td>NORWAY</td>\n",
       "      <td>BI Residence</td>\n",
       "      <td>69</td>\n",
       "      <td>HIGHSCHOOL</td>\n",
       "      <td>120</td>\n",
       "      <td>45</td>\n",
       "      <td>70</td>\n",
       "    </tr>\n",
       "    <tr>\n",
       "      <th>53</th>\n",
       "      <td>Chinedu</td>\n",
       "      <td>Morison</td>\n",
       "      <td>36</td>\n",
       "      <td>M</td>\n",
       "      <td>NIGERIA</td>\n",
       "      <td>Private</td>\n",
       "      <td>28</td>\n",
       "      <td>DIPLOMA</td>\n",
       "      <td>120</td>\n",
       "      <td>15</td>\n",
       "      <td>67</td>\n",
       "    </tr>\n",
       "  </tbody>\n",
       "</table>\n",
       "</div>"
      ],
      "text/plain": [
       "      fNAME      lNAME  Age gender       country     residence  entryEXAM  \\\n",
       "3     Shoni  Hlongwane   22      F           RSA     Sognsvann         40   \n",
       "4     Maria   Kedibone   23      F  SOUTH AFRICA     Sognsvann         65   \n",
       "20     Prof  Birkeland   22      M        NORWAY  BI Residence         45   \n",
       "21    Hanna    Isaksen   24      F        NORWAY  BI Residence         50   \n",
       "32    Perry    Rønning   71      F        NORWAY       Private         30   \n",
       "49     Thea    Knutsen   28      M        NORWAY  BI Residence         69   \n",
       "53  Chinedu    Morison   36      M       NIGERIA       Private         28   \n",
       "\n",
       "   prevEducation  studyHOURS  Python  DB  \n",
       "3     HIGHSCHOOL         120      75  44  \n",
       "4     HIGHSCHOOL         122      91  80  \n",
       "20    HIGHSCHOOL         116      33  30  \n",
       "21    HIGHSCHOOL         114      30  50  \n",
       "32     DOCTORATE         120      31  42  \n",
       "49    HIGHSCHOOL         120      45  70  \n",
       "53       DIPLOMA         120      15  67  "
      ]
     },
     "execution_count": 33,
     "metadata": {},
     "output_type": "execute_result"
    }
   ],
   "source": [
    "Q1 = df_student['studyHOURS'].quantile(0.25)\n",
    "Q3 = df_student['studyHOURS'].quantile(0.75)\n",
    "IQR = Q3 - Q1\n",
    "\n",
    "lower = Q1 - 1.5 * IQR\n",
    "upper = Q3 + 1.5 * IQR\n",
    "\n",
    "print(f' lower: {lower}\\n', f'upper: {upper}')\n",
    "\n",
    "outliers_studyHOURS = df_student[(df_student['studyHOURS'] < lower) | (df_student['studyHOURS'] > upper)]\n",
    "outliers_studyHOURS"
   ]
  },
  {
   "cell_type": "markdown",
   "id": "fe954854",
   "metadata": {},
   "source": [
    "# 2. Handle outliers\n"
   ]
  },
  {
   "cell_type": "code",
   "execution_count": 34,
   "id": "026d89ae",
   "metadata": {
    "ExecuteTime": {
     "end_time": "2025-09-16T18:52:37.432691Z",
     "start_time": "2025-09-16T18:52:37.425132Z"
    },
    "scrolled": true
   },
   "outputs": [
    {
     "data": {
      "text/html": [
       "<div>\n",
       "<style scoped>\n",
       "    .dataframe tbody tr th:only-of-type {\n",
       "        vertical-align: middle;\n",
       "    }\n",
       "\n",
       "    .dataframe tbody tr th {\n",
       "        vertical-align: top;\n",
       "    }\n",
       "\n",
       "    .dataframe thead th {\n",
       "        text-align: right;\n",
       "    }\n",
       "</style>\n",
       "<table border=\"1\" class=\"dataframe\">\n",
       "  <thead>\n",
       "    <tr style=\"text-align: right;\">\n",
       "      <th></th>\n",
       "      <th>fNAME</th>\n",
       "      <th>lNAME</th>\n",
       "      <th>Age</th>\n",
       "      <th>gender</th>\n",
       "      <th>country</th>\n",
       "      <th>residence</th>\n",
       "      <th>entryEXAM</th>\n",
       "      <th>prevEducation</th>\n",
       "      <th>studyHOURS</th>\n",
       "      <th>Python</th>\n",
       "      <th>DB</th>\n",
       "    </tr>\n",
       "  </thead>\n",
       "  <tbody>\n",
       "    <tr>\n",
       "      <th>20</th>\n",
       "      <td>Prof</td>\n",
       "      <td>Birkeland</td>\n",
       "      <td>22</td>\n",
       "      <td>M</td>\n",
       "      <td>NORWAY</td>\n",
       "      <td>BI Residence</td>\n",
       "      <td>45</td>\n",
       "      <td>HIGHSCHOOL</td>\n",
       "      <td>116</td>\n",
       "      <td>33</td>\n",
       "      <td>30</td>\n",
       "    </tr>\n",
       "    <tr>\n",
       "      <th>21</th>\n",
       "      <td>Hanna</td>\n",
       "      <td>Isaksen</td>\n",
       "      <td>24</td>\n",
       "      <td>F</td>\n",
       "      <td>NORWAY</td>\n",
       "      <td>BI Residence</td>\n",
       "      <td>50</td>\n",
       "      <td>HIGHSCHOOL</td>\n",
       "      <td>114</td>\n",
       "      <td>30</td>\n",
       "      <td>50</td>\n",
       "    </tr>\n",
       "    <tr>\n",
       "      <th>32</th>\n",
       "      <td>Perry</td>\n",
       "      <td>Rønning</td>\n",
       "      <td>71</td>\n",
       "      <td>F</td>\n",
       "      <td>NORWAY</td>\n",
       "      <td>Private</td>\n",
       "      <td>30</td>\n",
       "      <td>DOCTORATE</td>\n",
       "      <td>120</td>\n",
       "      <td>31</td>\n",
       "      <td>42</td>\n",
       "    </tr>\n",
       "    <tr>\n",
       "      <th>48</th>\n",
       "      <td>Jenny</td>\n",
       "      <td>Kristoffersen</td>\n",
       "      <td>26</td>\n",
       "      <td>F</td>\n",
       "      <td>NORWAY</td>\n",
       "      <td>BI Residence</td>\n",
       "      <td>68</td>\n",
       "      <td>HIGHSCHOOL</td>\n",
       "      <td>124</td>\n",
       "      <td>48</td>\n",
       "      <td>62</td>\n",
       "    </tr>\n",
       "    <tr>\n",
       "      <th>49</th>\n",
       "      <td>Thea</td>\n",
       "      <td>Knutsen</td>\n",
       "      <td>28</td>\n",
       "      <td>M</td>\n",
       "      <td>NORWAY</td>\n",
       "      <td>BI Residence</td>\n",
       "      <td>69</td>\n",
       "      <td>HIGHSCHOOL</td>\n",
       "      <td>120</td>\n",
       "      <td>45</td>\n",
       "      <td>70</td>\n",
       "    </tr>\n",
       "    <tr>\n",
       "      <th>53</th>\n",
       "      <td>Chinedu</td>\n",
       "      <td>Morison</td>\n",
       "      <td>36</td>\n",
       "      <td>M</td>\n",
       "      <td>NIGERIA</td>\n",
       "      <td>Private</td>\n",
       "      <td>28</td>\n",
       "      <td>DIPLOMA</td>\n",
       "      <td>120</td>\n",
       "      <td>15</td>\n",
       "      <td>67</td>\n",
       "    </tr>\n",
       "  </tbody>\n",
       "</table>\n",
       "</div>"
      ],
      "text/plain": [
       "      fNAME          lNAME  Age gender  country     residence  entryEXAM  \\\n",
       "20     Prof      Birkeland   22      M   NORWAY  BI Residence         45   \n",
       "21    Hanna        Isaksen   24      F   NORWAY  BI Residence         50   \n",
       "32    Perry        Rønning   71      F   NORWAY       Private         30   \n",
       "48    Jenny  Kristoffersen   26      F   NORWAY  BI Residence         68   \n",
       "49     Thea        Knutsen   28      M   NORWAY  BI Residence         69   \n",
       "53  Chinedu        Morison   36      M  NIGERIA       Private         28   \n",
       "\n",
       "   prevEducation  studyHOURS  Python  DB  \n",
       "20    HIGHSCHOOL         116      33  30  \n",
       "21    HIGHSCHOOL         114      30  50  \n",
       "32     DOCTORATE         120      31  42  \n",
       "48    HIGHSCHOOL         124      48  62  \n",
       "49    HIGHSCHOOL         120      45  70  \n",
       "53       DIPLOMA         120      15  67  "
      ]
     },
     "execution_count": 34,
     "metadata": {},
     "output_type": "execute_result"
    }
   ],
   "source": [
    "outliers_Python"
   ]
  },
  {
   "cell_type": "code",
   "execution_count": 35,
   "id": "c1792be7",
   "metadata": {
    "ExecuteTime": {
     "end_time": "2025-09-16T19:35:06.893415Z",
     "start_time": "2025-09-16T19:35:06.827674Z"
    },
    "scrolled": false
   },
   "outputs": [
    {
     "data": {
      "image/png": "[encoded data removed]",
      "text/plain": [
       "<Figure size 640x480 with 1 Axes>"
      ]
     },
     "metadata": {},
     "output_type": "display_data"
    }
   ],
   "source": [
    "df_student['Python'].plot(kind='box')\n",
    "plt.show()"
   ]
  },
  {
   "cell_type": "code",
   "execution_count": 68,
   "id": "7ad937e3",
   "metadata": {
    "ExecuteTime": {
     "end_time": "2025-09-16T19:20:54.065484Z",
     "start_time": "2025-09-16T19:20:54.060798Z"
    }
   },
   "outputs": [],
   "source": [
    "def cap_outliers(df, column):\n",
    "    \"\"\"\n",
    "    • Caps outliers in a numeric column using the IQR method (winsorization)\n",
    "    • Instead of removing outliers or replacing them with the mean/median,\n",
    "      You clip them to the nearest allowed boundary (usually the lower/upper IQR thresholds).\n",
    "    \n",
    "    Args:\n",
    "        df (pd.DataFrame): The dataframe.\n",
    "        column (str): The column name to process.\n",
    "        \n",
    "    Returns:\n",
    "        pd.DataFrame: dataframe with outliers capped at lower/upper bounds.\n",
    "    \"\"\"\n",
    "    df = df.copy()\n",
    "\n",
    "    Q1 = df[column].quantile(0.25)\n",
    "    Q3 = df[column].quantile(0.75)\n",
    "    IQR = Q3 - Q1\n",
    "    lower = Q1 - 1.5 * IQR\n",
    "    upper = Q3 + 1.5 * IQR\n",
    "\n",
    "    # Boolean mask for outliers\n",
    "    mask = (df[column] < lower) | (df[column] > upper)\n",
    "\n",
    "    # Cap values\n",
    "    df[column] = df[column].clip(lower, upper) # Assigns values outside boundary to boundary values\n",
    "\n",
    "    return df\n"
   ]
  },
  {
   "cell_type": "code",
   "execution_count": 69,
   "id": "c201b3d5",
   "metadata": {
    "ExecuteTime": {
     "end_time": "2025-09-16T19:20:54.645084Z",
     "start_time": "2025-09-16T19:20:54.633924Z"
    }
   },
   "outputs": [
    {
     "data": {
      "text/html": [
       "<div>\n",
       "<style scoped>\n",
       "    .dataframe tbody tr th:only-of-type {\n",
       "        vertical-align: middle;\n",
       "    }\n",
       "\n",
       "    .dataframe tbody tr th {\n",
       "        vertical-align: top;\n",
       "    }\n",
       "\n",
       "    .dataframe thead th {\n",
       "        text-align: right;\n",
       "    }\n",
       "</style>\n",
       "<table border=\"1\" class=\"dataframe\">\n",
       "  <thead>\n",
       "    <tr style=\"text-align: right;\">\n",
       "      <th></th>\n",
       "      <th>fNAME</th>\n",
       "      <th>lNAME</th>\n",
       "      <th>Age</th>\n",
       "      <th>gender</th>\n",
       "      <th>country</th>\n",
       "      <th>residence</th>\n",
       "      <th>entryEXAM</th>\n",
       "      <th>prevEducation</th>\n",
       "      <th>studyHOURS</th>\n",
       "      <th>Python</th>\n",
       "      <th>DB</th>\n",
       "    </tr>\n",
       "  </thead>\n",
       "  <tbody>\n",
       "    <tr>\n",
       "      <th>0</th>\n",
       "      <td>Christina</td>\n",
       "      <td>Binger</td>\n",
       "      <td>44</td>\n",
       "      <td>F</td>\n",
       "      <td>NORWAY</td>\n",
       "      <td>Private</td>\n",
       "      <td>72</td>\n",
       "      <td>MASTERS</td>\n",
       "      <td>158</td>\n",
       "      <td>62.5</td>\n",
       "      <td>55</td>\n",
       "    </tr>\n",
       "    <tr>\n",
       "      <th>1</th>\n",
       "      <td>Alex</td>\n",
       "      <td>Walekhwa</td>\n",
       "      <td>60</td>\n",
       "      <td>M</td>\n",
       "      <td>KENYA</td>\n",
       "      <td>Private</td>\n",
       "      <td>79</td>\n",
       "      <td>DIPLOMA</td>\n",
       "      <td>150</td>\n",
       "      <td>62.5</td>\n",
       "      <td>75</td>\n",
       "    </tr>\n",
       "    <tr>\n",
       "      <th>2</th>\n",
       "      <td>Philip</td>\n",
       "      <td>Leo</td>\n",
       "      <td>25</td>\n",
       "      <td>M</td>\n",
       "      <td>UGANDA</td>\n",
       "      <td>Sognsvann</td>\n",
       "      <td>55</td>\n",
       "      <td>HIGHSCHOOL</td>\n",
       "      <td>130</td>\n",
       "      <td>74.0</td>\n",
       "      <td>50</td>\n",
       "    </tr>\n",
       "    <tr>\n",
       "      <th>3</th>\n",
       "      <td>Shoni</td>\n",
       "      <td>Hlongwane</td>\n",
       "      <td>22</td>\n",
       "      <td>F</td>\n",
       "      <td>RSA</td>\n",
       "      <td>Sognsvann</td>\n",
       "      <td>40</td>\n",
       "      <td>HIGHSCHOOL</td>\n",
       "      <td>120</td>\n",
       "      <td>75.0</td>\n",
       "      <td>44</td>\n",
       "    </tr>\n",
       "    <tr>\n",
       "      <th>4</th>\n",
       "      <td>Maria</td>\n",
       "      <td>Kedibone</td>\n",
       "      <td>23</td>\n",
       "      <td>F</td>\n",
       "      <td>SOUTH AFRICA</td>\n",
       "      <td>Sognsvann</td>\n",
       "      <td>65</td>\n",
       "      <td>HIGHSCHOOL</td>\n",
       "      <td>122</td>\n",
       "      <td>91.0</td>\n",
       "      <td>80</td>\n",
       "    </tr>\n",
       "    <tr>\n",
       "      <th>...</th>\n",
       "      <td>...</td>\n",
       "      <td>...</td>\n",
       "      <td>...</td>\n",
       "      <td>...</td>\n",
       "      <td>...</td>\n",
       "      <td>...</td>\n",
       "      <td>...</td>\n",
       "      <td>...</td>\n",
       "      <td>...</td>\n",
       "      <td>...</td>\n",
       "      <td>...</td>\n",
       "    </tr>\n",
       "    <tr>\n",
       "      <th>72</th>\n",
       "      <td>Clara</td>\n",
       "      <td>Bernard</td>\n",
       "      <td>43</td>\n",
       "      <td>F</td>\n",
       "      <td>FRANCE</td>\n",
       "      <td>Private</td>\n",
       "      <td>80</td>\n",
       "      <td>BACHELORS</td>\n",
       "      <td>150</td>\n",
       "      <td>75.0</td>\n",
       "      <td>43</td>\n",
       "    </tr>\n",
       "    <tr>\n",
       "      <th>73</th>\n",
       "      <td>Julian</td>\n",
       "      <td>Nielsen</td>\n",
       "      <td>31</td>\n",
       "      <td>M</td>\n",
       "      <td>DENMARK</td>\n",
       "      <td>Sognsvann</td>\n",
       "      <td>90</td>\n",
       "      <td>MASTERS</td>\n",
       "      <td>158</td>\n",
       "      <td>84.0</td>\n",
       "      <td>83</td>\n",
       "    </tr>\n",
       "    <tr>\n",
       "      <th>74</th>\n",
       "      <td>Sophie</td>\n",
       "      <td>Brown</td>\n",
       "      <td>33</td>\n",
       "      <td>F</td>\n",
       "      <td>UK</td>\n",
       "      <td>Sognsvann</td>\n",
       "      <td>96</td>\n",
       "      <td>MASTERS</td>\n",
       "      <td>158</td>\n",
       "      <td>85.0</td>\n",
       "      <td>90</td>\n",
       "    </tr>\n",
       "    <tr>\n",
       "      <th>75</th>\n",
       "      <td>Leon</td>\n",
       "      <td>Bauer</td>\n",
       "      <td>35</td>\n",
       "      <td>M</td>\n",
       "      <td>GERMANY</td>\n",
       "      <td>Sognsvann</td>\n",
       "      <td>90</td>\n",
       "      <td>MASTERS</td>\n",
       "      <td>160</td>\n",
       "      <td>87.0</td>\n",
       "      <td>74</td>\n",
       "    </tr>\n",
       "    <tr>\n",
       "      <th>76</th>\n",
       "      <td>Mohammed</td>\n",
       "      <td>Salim</td>\n",
       "      <td>31</td>\n",
       "      <td>M</td>\n",
       "      <td>SOMALI</td>\n",
       "      <td>Sognsvann</td>\n",
       "      <td>35</td>\n",
       "      <td>MASTERS</td>\n",
       "      <td>144</td>\n",
       "      <td>72.0</td>\n",
       "      <td>90</td>\n",
       "    </tr>\n",
       "  </tbody>\n",
       "</table>\n",
       "<p>77 rows × 11 columns</p>\n",
       "</div>"
      ],
      "text/plain": [
       "        fNAME      lNAME  Age gender       country  residence  entryEXAM  \\\n",
       "0   Christina     Binger   44      F        NORWAY    Private         72   \n",
       "1        Alex   Walekhwa   60      M         KENYA    Private         79   \n",
       "2      Philip        Leo   25      M        UGANDA  Sognsvann         55   \n",
       "3       Shoni  Hlongwane   22      F           RSA  Sognsvann         40   \n",
       "4       Maria   Kedibone   23      F  SOUTH AFRICA  Sognsvann         65   \n",
       "..        ...        ...  ...    ...           ...        ...        ...   \n",
       "72      Clara    Bernard   43      F        FRANCE    Private         80   \n",
       "73     Julian    Nielsen   31      M       DENMARK  Sognsvann         90   \n",
       "74     Sophie      Brown   33      F            UK  Sognsvann         96   \n",
       "75       Leon      Bauer   35      M       GERMANY  Sognsvann         90   \n",
       "76   Mohammed      Salim   31      M        SOMALI  Sognsvann         35   \n",
       "\n",
       "   prevEducation  studyHOURS  Python  DB  \n",
       "0        MASTERS         158    62.5  55  \n",
       "1        DIPLOMA         150    62.5  75  \n",
       "2     HIGHSCHOOL         130    74.0  50  \n",
       "3     HIGHSCHOOL         120    75.0  44  \n",
       "4     HIGHSCHOOL         122    91.0  80  \n",
       "..           ...         ...     ...  ..  \n",
       "72     BACHELORS         150    75.0  43  \n",
       "73       MASTERS         158    84.0  83  \n",
       "74       MASTERS         158    85.0  90  \n",
       "75       MASTERS         160    87.0  74  \n",
       "76       MASTERS         144    72.0  90  \n",
       "\n",
       "[77 rows x 11 columns]"
      ]
     },
     "execution_count": 69,
     "metadata": {},
     "output_type": "execute_result"
    }
   ],
   "source": [
    "df_student = cap_outliers(df_student, \"Python\")\n",
    "df_student"
   ]
  },
  {
   "cell_type": "code",
   "execution_count": 73,
   "id": "11cf3be8",
   "metadata": {
    "ExecuteTime": {
     "end_time": "2025-09-16T19:35:06.893415Z",
     "start_time": "2025-09-16T19:35:06.827674Z"
    }
   },
   "outputs": [
    {
     "data": {
      "image/png": "[encoded data removed]",
      "text/plain": [
       "<Figure size 640x480 with 1 Axes>"
      ]
     },
     "metadata": {},
     "output_type": "display_data"
    }
   ],
   "source": [
    "df_student['Python'].plot(kind='box')\n",
    "plt.show()"
   ]
  },
  {
   "cell_type": "code",
   "execution_count": null,
   "id": "2cec5a30",
   "metadata": {},
   "outputs": [],
   "source": []
  },
  {
   "cell_type": "code",
   "execution_count": 74,
   "id": "daa02e8d",
   "metadata": {
    "ExecuteTime": {
     "end_time": "2025-09-16T19:35:41.539629Z",
     "start_time": "2025-09-16T19:35:41.531117Z"
    }
   },
   "outputs": [
    {
     "data": {
      "text/html": [
       "<div>\n",
       "<style scoped>\n",
       "    .dataframe tbody tr th:only-of-type {\n",
       "        vertical-align: middle;\n",
       "    }\n",
       "\n",
       "    .dataframe tbody tr th {\n",
       "        vertical-align: top;\n",
       "    }\n",
       "\n",
       "    .dataframe thead th {\n",
       "        text-align: right;\n",
       "    }\n",
       "</style>\n",
       "<table border=\"1\" class=\"dataframe\">\n",
       "  <thead>\n",
       "    <tr style=\"text-align: right;\">\n",
       "      <th></th>\n",
       "      <th>fNAME</th>\n",
       "      <th>lNAME</th>\n",
       "      <th>Age</th>\n",
       "      <th>gender</th>\n",
       "      <th>country</th>\n",
       "      <th>residence</th>\n",
       "      <th>entryEXAM</th>\n",
       "      <th>prevEducation</th>\n",
       "      <th>studyHOURS</th>\n",
       "      <th>Python</th>\n",
       "      <th>DB</th>\n",
       "    </tr>\n",
       "  </thead>\n",
       "  <tbody>\n",
       "    <tr>\n",
       "      <th>3</th>\n",
       "      <td>Shoni</td>\n",
       "      <td>Hlongwane</td>\n",
       "      <td>22</td>\n",
       "      <td>F</td>\n",
       "      <td>RSA</td>\n",
       "      <td>Sognsvann</td>\n",
       "      <td>40</td>\n",
       "      <td>HIGHSCHOOL</td>\n",
       "      <td>120</td>\n",
       "      <td>75</td>\n",
       "      <td>44</td>\n",
       "    </tr>\n",
       "    <tr>\n",
       "      <th>4</th>\n",
       "      <td>Maria</td>\n",
       "      <td>Kedibone</td>\n",
       "      <td>23</td>\n",
       "      <td>F</td>\n",
       "      <td>SOUTH AFRICA</td>\n",
       "      <td>Sognsvann</td>\n",
       "      <td>65</td>\n",
       "      <td>HIGHSCHOOL</td>\n",
       "      <td>122</td>\n",
       "      <td>91</td>\n",
       "      <td>80</td>\n",
       "    </tr>\n",
       "    <tr>\n",
       "      <th>20</th>\n",
       "      <td>Prof</td>\n",
       "      <td>Birkeland</td>\n",
       "      <td>22</td>\n",
       "      <td>M</td>\n",
       "      <td>NORWAY</td>\n",
       "      <td>BI Residence</td>\n",
       "      <td>45</td>\n",
       "      <td>HIGHSCHOOL</td>\n",
       "      <td>116</td>\n",
       "      <td>33</td>\n",
       "      <td>30</td>\n",
       "    </tr>\n",
       "    <tr>\n",
       "      <th>21</th>\n",
       "      <td>Hanna</td>\n",
       "      <td>Isaksen</td>\n",
       "      <td>24</td>\n",
       "      <td>F</td>\n",
       "      <td>NORWAY</td>\n",
       "      <td>BI Residence</td>\n",
       "      <td>50</td>\n",
       "      <td>HIGHSCHOOL</td>\n",
       "      <td>114</td>\n",
       "      <td>30</td>\n",
       "      <td>50</td>\n",
       "    </tr>\n",
       "    <tr>\n",
       "      <th>32</th>\n",
       "      <td>Perry</td>\n",
       "      <td>Rønning</td>\n",
       "      <td>71</td>\n",
       "      <td>F</td>\n",
       "      <td>NORWAY</td>\n",
       "      <td>Private</td>\n",
       "      <td>30</td>\n",
       "      <td>DOCTORATE</td>\n",
       "      <td>120</td>\n",
       "      <td>31</td>\n",
       "      <td>42</td>\n",
       "    </tr>\n",
       "    <tr>\n",
       "      <th>49</th>\n",
       "      <td>Thea</td>\n",
       "      <td>Knutsen</td>\n",
       "      <td>28</td>\n",
       "      <td>M</td>\n",
       "      <td>NORWAY</td>\n",
       "      <td>BI Residence</td>\n",
       "      <td>69</td>\n",
       "      <td>HIGHSCHOOL</td>\n",
       "      <td>120</td>\n",
       "      <td>45</td>\n",
       "      <td>70</td>\n",
       "    </tr>\n",
       "    <tr>\n",
       "      <th>53</th>\n",
       "      <td>Chinedu</td>\n",
       "      <td>Morison</td>\n",
       "      <td>36</td>\n",
       "      <td>M</td>\n",
       "      <td>NIGERIA</td>\n",
       "      <td>Private</td>\n",
       "      <td>28</td>\n",
       "      <td>DIPLOMA</td>\n",
       "      <td>120</td>\n",
       "      <td>15</td>\n",
       "      <td>67</td>\n",
       "    </tr>\n",
       "  </tbody>\n",
       "</table>\n",
       "</div>"
      ],
      "text/plain": [
       "      fNAME      lNAME  Age gender       country     residence  entryEXAM  \\\n",
       "3     Shoni  Hlongwane   22      F           RSA     Sognsvann         40   \n",
       "4     Maria   Kedibone   23      F  SOUTH AFRICA     Sognsvann         65   \n",
       "20     Prof  Birkeland   22      M        NORWAY  BI Residence         45   \n",
       "21    Hanna    Isaksen   24      F        NORWAY  BI Residence         50   \n",
       "32    Perry    Rønning   71      F        NORWAY       Private         30   \n",
       "49     Thea    Knutsen   28      M        NORWAY  BI Residence         69   \n",
       "53  Chinedu    Morison   36      M       NIGERIA       Private         28   \n",
       "\n",
       "   prevEducation  studyHOURS  Python  DB  \n",
       "3     HIGHSCHOOL         120      75  44  \n",
       "4     HIGHSCHOOL         122      91  80  \n",
       "20    HIGHSCHOOL         116      33  30  \n",
       "21    HIGHSCHOOL         114      30  50  \n",
       "32     DOCTORATE         120      31  42  \n",
       "49    HIGHSCHOOL         120      45  70  \n",
       "53       DIPLOMA         120      15  67  "
      ]
     },
     "execution_count": 74,
     "metadata": {},
     "output_type": "execute_result"
    }
   ],
   "source": [
    "outliers_studyHOURS"
   ]
  },
  {
   "cell_type": "code",
   "execution_count": 75,
   "id": "34e3821f",
   "metadata": {
    "ExecuteTime": {
     "end_time": "2025-09-16T19:36:25.380218Z",
     "start_time": "2025-09-16T19:36:25.319362Z"
    }
   },
   "outputs": [
    {
     "data": {
      "image/png": "[encoded data removed]",
      "text/plain": [
       "<Figure size 640x480 with 1 Axes>"
      ]
     },
     "metadata": {},
     "output_type": "display_data"
    }
   ],
   "source": [
    "df_student['studyHOURS'].plot(kind='box')\n",
    "plt.show()"
   ]
  },
  {
   "cell_type": "code",
   "execution_count": 76,
   "id": "f313fdd3",
   "metadata": {
    "ExecuteTime": {
     "end_time": "2025-09-16T19:36:44.016232Z",
     "start_time": "2025-09-16T19:36:44.005561Z"
    }
   },
   "outputs": [
    {
     "data": {
      "text/html": [
       "<div>\n",
       "<style scoped>\n",
       "    .dataframe tbody tr th:only-of-type {\n",
       "        vertical-align: middle;\n",
       "    }\n",
       "\n",
       "    .dataframe tbody tr th {\n",
       "        vertical-align: top;\n",
       "    }\n",
       "\n",
       "    .dataframe thead th {\n",
       "        text-align: right;\n",
       "    }\n",
       "</style>\n",
       "<table border=\"1\" class=\"dataframe\">\n",
       "  <thead>\n",
       "    <tr style=\"text-align: right;\">\n",
       "      <th></th>\n",
       "      <th>fNAME</th>\n",
       "      <th>lNAME</th>\n",
       "      <th>Age</th>\n",
       "      <th>gender</th>\n",
       "      <th>country</th>\n",
       "      <th>residence</th>\n",
       "      <th>entryEXAM</th>\n",
       "      <th>prevEducation</th>\n",
       "      <th>studyHOURS</th>\n",
       "      <th>Python</th>\n",
       "      <th>DB</th>\n",
       "    </tr>\n",
       "  </thead>\n",
       "  <tbody>\n",
       "    <tr>\n",
       "      <th>0</th>\n",
       "      <td>Christina</td>\n",
       "      <td>Binger</td>\n",
       "      <td>44</td>\n",
       "      <td>F</td>\n",
       "      <td>NORWAY</td>\n",
       "      <td>Private</td>\n",
       "      <td>72</td>\n",
       "      <td>MASTERS</td>\n",
       "      <td>158</td>\n",
       "      <td>62.5</td>\n",
       "      <td>55</td>\n",
       "    </tr>\n",
       "    <tr>\n",
       "      <th>1</th>\n",
       "      <td>Alex</td>\n",
       "      <td>Walekhwa</td>\n",
       "      <td>60</td>\n",
       "      <td>M</td>\n",
       "      <td>KENYA</td>\n",
       "      <td>Private</td>\n",
       "      <td>79</td>\n",
       "      <td>DIPLOMA</td>\n",
       "      <td>150</td>\n",
       "      <td>62.5</td>\n",
       "      <td>75</td>\n",
       "    </tr>\n",
       "    <tr>\n",
       "      <th>2</th>\n",
       "      <td>Philip</td>\n",
       "      <td>Leo</td>\n",
       "      <td>25</td>\n",
       "      <td>M</td>\n",
       "      <td>UGANDA</td>\n",
       "      <td>Sognsvann</td>\n",
       "      <td>55</td>\n",
       "      <td>HIGHSCHOOL</td>\n",
       "      <td>130</td>\n",
       "      <td>74.0</td>\n",
       "      <td>50</td>\n",
       "    </tr>\n",
       "    <tr>\n",
       "      <th>3</th>\n",
       "      <td>Shoni</td>\n",
       "      <td>Hlongwane</td>\n",
       "      <td>22</td>\n",
       "      <td>F</td>\n",
       "      <td>RSA</td>\n",
       "      <td>Sognsvann</td>\n",
       "      <td>40</td>\n",
       "      <td>HIGHSCHOOL</td>\n",
       "      <td>123</td>\n",
       "      <td>75.0</td>\n",
       "      <td>44</td>\n",
       "    </tr>\n",
       "    <tr>\n",
       "      <th>4</th>\n",
       "      <td>Maria</td>\n",
       "      <td>Kedibone</td>\n",
       "      <td>23</td>\n",
       "      <td>F</td>\n",
       "      <td>SOUTH AFRICA</td>\n",
       "      <td>Sognsvann</td>\n",
       "      <td>65</td>\n",
       "      <td>HIGHSCHOOL</td>\n",
       "      <td>123</td>\n",
       "      <td>91.0</td>\n",
       "      <td>80</td>\n",
       "    </tr>\n",
       "    <tr>\n",
       "      <th>...</th>\n",
       "      <td>...</td>\n",
       "      <td>...</td>\n",
       "      <td>...</td>\n",
       "      <td>...</td>\n",
       "      <td>...</td>\n",
       "      <td>...</td>\n",
       "      <td>...</td>\n",
       "      <td>...</td>\n",
       "      <td>...</td>\n",
       "      <td>...</td>\n",
       "      <td>...</td>\n",
       "    </tr>\n",
       "    <tr>\n",
       "      <th>72</th>\n",
       "      <td>Clara</td>\n",
       "      <td>Bernard</td>\n",
       "      <td>43</td>\n",
       "      <td>F</td>\n",
       "      <td>FRANCE</td>\n",
       "      <td>Private</td>\n",
       "      <td>80</td>\n",
       "      <td>BACHELORS</td>\n",
       "      <td>150</td>\n",
       "      <td>75.0</td>\n",
       "      <td>43</td>\n",
       "    </tr>\n",
       "    <tr>\n",
       "      <th>73</th>\n",
       "      <td>Julian</td>\n",
       "      <td>Nielsen</td>\n",
       "      <td>31</td>\n",
       "      <td>M</td>\n",
       "      <td>DENMARK</td>\n",
       "      <td>Sognsvann</td>\n",
       "      <td>90</td>\n",
       "      <td>MASTERS</td>\n",
       "      <td>158</td>\n",
       "      <td>84.0</td>\n",
       "      <td>83</td>\n",
       "    </tr>\n",
       "    <tr>\n",
       "      <th>74</th>\n",
       "      <td>Sophie</td>\n",
       "      <td>Brown</td>\n",
       "      <td>33</td>\n",
       "      <td>F</td>\n",
       "      <td>UK</td>\n",
       "      <td>Sognsvann</td>\n",
       "      <td>96</td>\n",
       "      <td>MASTERS</td>\n",
       "      <td>158</td>\n",
       "      <td>85.0</td>\n",
       "      <td>90</td>\n",
       "    </tr>\n",
       "    <tr>\n",
       "      <th>75</th>\n",
       "      <td>Leon</td>\n",
       "      <td>Bauer</td>\n",
       "      <td>35</td>\n",
       "      <td>M</td>\n",
       "      <td>GERMANY</td>\n",
       "      <td>Sognsvann</td>\n",
       "      <td>90</td>\n",
       "      <td>MASTERS</td>\n",
       "      <td>160</td>\n",
       "      <td>87.0</td>\n",
       "      <td>74</td>\n",
       "    </tr>\n",
       "    <tr>\n",
       "      <th>76</th>\n",
       "      <td>Mohammed</td>\n",
       "      <td>Salim</td>\n",
       "      <td>31</td>\n",
       "      <td>M</td>\n",
       "      <td>SOMALI</td>\n",
       "      <td>Sognsvann</td>\n",
       "      <td>35</td>\n",
       "      <td>MASTERS</td>\n",
       "      <td>144</td>\n",
       "      <td>72.0</td>\n",
       "      <td>90</td>\n",
       "    </tr>\n",
       "  </tbody>\n",
       "</table>\n",
       "<p>77 rows × 11 columns</p>\n",
       "</div>"
      ],
      "text/plain": [
       "        fNAME      lNAME  Age gender       country  residence  entryEXAM  \\\n",
       "0   Christina     Binger   44      F        NORWAY    Private         72   \n",
       "1        Alex   Walekhwa   60      M         KENYA    Private         79   \n",
       "2      Philip        Leo   25      M        UGANDA  Sognsvann         55   \n",
       "3       Shoni  Hlongwane   22      F           RSA  Sognsvann         40   \n",
       "4       Maria   Kedibone   23      F  SOUTH AFRICA  Sognsvann         65   \n",
       "..        ...        ...  ...    ...           ...        ...        ...   \n",
       "72      Clara    Bernard   43      F        FRANCE    Private         80   \n",
       "73     Julian    Nielsen   31      M       DENMARK  Sognsvann         90   \n",
       "74     Sophie      Brown   33      F            UK  Sognsvann         96   \n",
       "75       Leon      Bauer   35      M       GERMANY  Sognsvann         90   \n",
       "76   Mohammed      Salim   31      M        SOMALI  Sognsvann         35   \n",
       "\n",
       "   prevEducation  studyHOURS  Python  DB  \n",
       "0        MASTERS         158    62.5  55  \n",
       "1        DIPLOMA         150    62.5  75  \n",
       "2     HIGHSCHOOL         130    74.0  50  \n",
       "3     HIGHSCHOOL         123    75.0  44  \n",
       "4     HIGHSCHOOL         123    91.0  80  \n",
       "..           ...         ...     ...  ..  \n",
       "72     BACHELORS         150    75.0  43  \n",
       "73       MASTERS         158    84.0  83  \n",
       "74       MASTERS         158    85.0  90  \n",
       "75       MASTERS         160    87.0  74  \n",
       "76       MASTERS         144    72.0  90  \n",
       "\n",
       "[77 rows x 11 columns]"
      ]
     },
     "execution_count": 76,
     "metadata": {},
     "output_type": "execute_result"
    }
   ],
   "source": [
    "df_student = cap_outliers(df_student, \"studyHOURS\")\n",
    "df_student"
   ]
  },
  {
   "cell_type": "code",
   "execution_count": 77,
   "id": "d7127ee8",
   "metadata": {
    "ExecuteTime": {
     "end_time": "2025-09-16T19:36:50.395362Z",
     "start_time": "2025-09-16T19:36:50.326009Z"
    }
   },
   "outputs": [
    {
     "data": {
      "image/png": "[encoded data removed]",
      "text/plain": [
       "<Figure size 640x480 with 1 Axes>"
      ]
     },
     "metadata": {},
     "output_type": "display_data"
    }
   ],
   "source": [
    "df_student['studyHOURS'].plot(kind='box')\n",
    "plt.show()"
   ]
  },
  {
   "cell_type": "markdown",
   "id": "4a82c615",
   "metadata": {},
   "source": [
    "-------------"
   ]
  },
  {
   "cell_type": "markdown",
   "id": "49edd6da",
   "metadata": {},
   "source": [
    "# Save the cleaned data to a CSV file"
   ]
  },
  {
   "cell_type": "code",
   "execution_count": 78,
   "id": "a7587350",
   "metadata": {
    "ExecuteTime": {
     "end_time": "2025-09-16T19:40:12.167552Z",
     "start_time": "2025-09-16T19:40:12.159449Z"
    }
   },
   "outputs": [],
   "source": [
    "df_student.to_csv(\"cleaned_students.csv\", index=False)"
   ]
  },
  {
   "cell_type": "code",
   "execution_count": null,
   "id": "1977bf95",
   "metadata": {},
   "outputs": [],
   "source": []
  }
 ],
 "metadata": {
  "kernelspec": {
   "display_name": "Python 3 (ipykernel)",
   "language": "python",
   "name": "python3"
  },
  "language_info": {
   "codemirror_mode": {
    "name": "ipython",
    "version": 3
   },
   "file_extension": ".py",
   "mimetype": "text/x-python",
   "name": "python",
   "nbconvert_exporter": "python",
   "pygments_lexer": "ipython3",
   "version": "3.11.13"
  },
  "varInspector": {
   "cols": {
    "lenName": 16,
    "lenType": 16,
    "lenVar": 40
   },
   "kernels_config": {
    "python": {
     "delete_cmd_postfix": "",
     "delete_cmd_prefix": "del ",
     "library": "var_list.py",
     "varRefreshCmd": "print(var_dic_list())"
    },
    "r": {
     "delete_cmd_postfix": ") ",
     "delete_cmd_prefix": "rm(",
     "library": "var_list.r",
     "varRefreshCmd": "cat(var_dic_list()) "
    }
   },
   "types_to_exclude": [
    "module",
    "function",
    "builtin_function_or_method",
    "instance",
    "_Feature"
   ],
   "window_display": false
  }
 },
 "nbformat": 4,
 "nbformat_minor": 5
}
