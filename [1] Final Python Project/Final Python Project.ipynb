{
 "cells": [
  {
   "cell_type": "markdown",
   "id": "4a191295-f854-4b56-b5b5-20087addf378",
   "metadata": {},
   "source": [
    "# Employee Data Management System"
   ]
  },
  {
   "cell_type": "code",
   "execution_count": 3,
   "id": "2577ccb7-6780-4af1-b55e-337935484827",
   "metadata": {},
   "outputs": [],
   "source": [
    "import csv\n",
    "import os\n",
    "import re\n",
    "import pandas as pd"
   ]
  },
  {
   "cell_type": "code",
   "execution_count": 22,
   "id": "683f4bc7-b7df-45d1-a5b6-0722d37d4d2a",
   "metadata": {},
   "outputs": [],
   "source": [
    "class EmployeeManager:\n",
    "    \n",
    "    def __init__(self):\n",
    "        self.header = ['id', 'name', 'position', 'salary', 'email']\n",
    "        self.employee = {}\n",
    "        self.employees = []\n",
    "        self.index = 0\n",
    "\n",
    "    def add_to_csv(self, file_status, addOne_or_addAll):\n",
    "        with open('employees.csv', file_status, newline='') as file:\n",
    "            writer = csv.DictWriter(file, fieldnames=self.header)\n",
    "            if file_status == 'w':\n",
    "                writer.writeheader()\n",
    "            if addOne_or_addAll == self.employee:\n",
    "                writer.writerow(self.employee)\n",
    "            else:\n",
    "                writer.writerows(self.employees)\n",
    "        \n",
    "    def add_employee(self, *args):\n",
    "        self.employee = dict(zip(self.header, args))\n",
    "\n",
    "        file_exists = os.path.isfile('employees.csv')\n",
    "        file_status = 'a' if file_exists else 'w'\n",
    "        self.add_to_csv(file_status, self.employee)\n",
    "        # print(\"Saved Successfully\")\n",
    "\n",
    "    def view_all_employees(self):\n",
    "        self.employees = []\n",
    "        with open('employees.csv', 'r') as file:\n",
    "            reader = csv.DictReader(file)\n",
    "            for row in reader:\n",
    "                self.employees.append(dict(row))\n",
    "        return self.employees\n",
    "\n",
    "    def update_employee(self, idd, **kwargs):\n",
    "        self.search_employee(idd)\n",
    "        for key, value in kwargs.items():\n",
    "            self.employee[key] = value\n",
    "        # Replace the old employee data with the updated one\n",
    "        self.employees[self.index] = self.employee\n",
    "        # Save the employees back to the file\n",
    "        self.add_to_csv('w', self.employees)\n",
    "        # print(\"Employee updated successfully.\")\n",
    "\n",
    "    def delete_employee(self, idd):\n",
    "        self.search_employee(idd)\n",
    "        del self.employees[self.index]\n",
    "        # Save the employees back to the file\n",
    "        self.add_to_csv('w', self.employees)\n",
    "        # print(\"Employee deleted successfully.\")\n",
    "\n",
    "    def search_employee(self, idd):\n",
    "        self.view_all_employees()\n",
    "        matched = [(index, employee) for index, employee in enumerate(self.employees) if employee['id'] == f\"{idd}\"]\n",
    "        if not matched: \n",
    "            return 0\n",
    "            # print(f\"No employee found with ID {idd}\")            \n",
    "        self.index, self.employee = matched[0]\n",
    "        return self.employees[self.index]\n",
    "\n",
    "    def re(self):\n",
    "        print(self.employees)"
   ]
  },
  {
   "cell_type": "code",
   "execution_count": 24,
   "id": "2c60ba48-2dba-4df9-8212-ca8f727f0d86",
   "metadata": {},
   "outputs": [],
   "source": [
    "def entry():\n",
    "    inp = 0\n",
    "    while inp not in range(1, 7):\n",
    "        inp = int(input(\"Select your action number:\\n 1. Add \\n 2. Update \\n 3. Delete \\n 4. Search \\n 5. List all employees \\n 6. Exit \\n\"))\n",
    "        print(\"------------------------------\\n\")\n",
    "    return inp\n",
    "\n",
    "def vaildate_id():\n",
    "    while True:\n",
    "        idd = input(\"ID: \")\n",
    "        try:\n",
    "            idd = int(idd)\n",
    "            if idd < 0:\n",
    "                print(\"Enter a valid ID...\")\n",
    "                continue\n",
    "            if emp.search_employee(str(idd)):\n",
    "                print(\"ID already exists. Enter a unique ID...\")\n",
    "                continue\n",
    "            # valid and unique ID\n",
    "            return idd\n",
    "        except ValueError:\n",
    "            print(\"Enter a valid numeric ID...\")\n",
    "\n",
    "def vaildate_salary(salary=None):\n",
    "    while True:\n",
    "        if salary == None:\n",
    "            salary = input(\"Salary: \")\n",
    "        try:\n",
    "            salary = int(salary)\n",
    "            if salary < 0:\n",
    "                print(\"Salary must be a positive number.\")\n",
    "                salary = None\n",
    "                continue\n",
    "            return salary\n",
    "        except ValueError:\n",
    "            print(\"Enter a valid Salary: \")\n",
    "            salary = None\n",
    "\n",
    "def vaildate_email(email=None):\n",
    "    email_pattern = r\"^[a-zA-Z]+@gmail+\\.(com|net)$\"\n",
    "    while True:\n",
    "        if email == None:\n",
    "            email = input(\"Email: \")\n",
    "        if re.match(email_pattern, email):\n",
    "            return email\n",
    "        else:\n",
    "            print(\"Enter a valid email: \")\n",
    "            email = None"
   ]
  },
  {
   "cell_type": "code",
   "execution_count": null,
   "id": "0f28dbc2-424c-42e7-8ef8-8c9232eebcbd",
   "metadata": {
    "scrolled": true
   },
   "outputs": [
    {
     "name": "stdout",
     "output_type": "stream",
     "text": [
      "------------------------------\n",
      "\n"
     ]
    },
    {
     "name": "stdin",
     "output_type": "stream",
     "text": [
      "Select your action number:\n",
      " 1. Add \n",
      " 2. Update \n",
      " 3. Delete \n",
      " 4. Search \n",
      " 5. List all employees \n",
      " 6. Exit \n",
      " 2\n"
     ]
    },
    {
     "name": "stdout",
     "output_type": "stream",
     "text": [
      "------------------------------\n",
      "\n"
     ]
    },
    {
     "name": "stdin",
     "output_type": "stream",
     "text": [
      "ID:  4\n"
     ]
    },
    {
     "name": "stdout",
     "output_type": "stream",
     "text": [
      "The employee data: \n",
      "{'id': '4', 'name': 'omar', 'position': 'ITI', 'salary': '5000', 'email': 'omar@gmail.net'}\n"
     ]
    },
    {
     "name": "stdin",
     "output_type": "stream",
     "text": [
      "Please Copy & Paste what to update:\n",
      " 1. name\n",
      " 2. position\n",
      " 3. salary\n",
      " 4. email\n",
      " 5\n"
     ]
    },
    {
     "name": "stdout",
     "output_type": "stream",
     "text": [
      "Choose a correct number...\n",
      "------------------------------\n",
      "\n"
     ]
    }
   ],
   "source": [
    "emp = EmployeeManager()\n",
    "while True:\n",
    "    print(\"------------------------------\\n\")\n",
    "    inp = entry()\n",
    "    match inp:\n",
    "        case 1: # Add\n",
    "            print(\"Enter the employee details\")\n",
    "            # ID\n",
    "            idd = vaildate_id()   \n",
    "            # Name\n",
    "            name = input(\"Name: \")\n",
    "            # Position\n",
    "            position = input(\"Position: \")\n",
    "            # Salary\n",
    "            salary = vaildate_salary()\n",
    "            # Email\n",
    "            email = vaildate_email()\n",
    "            # Add the new employee\n",
    "            emp.add_employee(idd, name, position, salary, email)\n",
    "            print(\"Employee added Successfully\")\n",
    "            \n",
    "        case 2: # Update\n",
    "            idd = input(\"ID: \")\n",
    "            while emp.search_employee(idd) == 0:\n",
    "                print(f\"No employee found with ID {idd}\")\n",
    "                idd = input(\"ID: \")\n",
    "            print(\"The employee data: \")\n",
    "            print(emp.search_employee(idd))\n",
    "            \n",
    "            update_choice = input(\"Write the feature you want to update:\\n 1. name\\n 2. position\\n 3. salary\\n 4. email\\n\")\n",
    "            if update_choice not in ['name', 'position', 'salary', 'email']:\n",
    "                print(\"Choose a the correct feature you want to update...\")\n",
    "                continue\n",
    "            new_value = str(input(\"The new value: \"))\n",
    "            \n",
    "            if update_choice == 'salary':\n",
    "                new_value = vaildate_salary(new_value)\n",
    "            elif update_choice == 'email':\n",
    "                new_value = vaildate_email(new_value)\n",
    "            emp.update_employee(idd, **{update_choice: new_value})\n",
    "            print(\"Employee updated successfully.\")\n",
    "        \n",
    "        case 3: # Delete\n",
    "            idd = input(\"ID: \")\n",
    "            while emp.search_employee(idd) == 0:\n",
    "                print(f\"No employee found with ID {idd}\")\n",
    "                idd = input(\"ID: \")\n",
    "            print(\"The employee data:\\n\", emp.search_employee(idd))\n",
    "            check = input(\"Press y to Confirm or n to back to the main menu.\")\n",
    "            if check == 'y':\n",
    "                emp.delete_employee(idd)\n",
    "                print(\"Employee deleted successfully.\")\n",
    "            else:\n",
    "                print(\"Price 'y' or 'n' only...\")\n",
    "                continue\n",
    "                \n",
    "        case 4: # Search\n",
    "            idd = input(\"ID: \")\n",
    "            while emp.search_employee(idd) == 0:\n",
    "                print(f\"No employee found with ID {idd}\")\n",
    "                idd = input(\"ID: \")\n",
    "            print(\"The employee data:\\n\", emp.search_employee(idd))\n",
    "            \n",
    "        case 5: # List all employees\n",
    "            print(\"All Emplyees:\\n\")\n",
    "            for e in emp.view_all_employees():\n",
    "                print(e)\n",
    "            # print(pd.DataFrame(pd.read_csv('employees.csv')))\n",
    "            \n",
    "        case 6: # Exit\n",
    "            print(\"Bye Bye\")\n",
    "            break"
   ]
  },
  {
   "cell_type": "code",
   "execution_count": null,
   "id": "753e318d-4849-45e3-a077-8b175ce5d3f0",
   "metadata": {},
   "outputs": [],
   "source": []
  },
  {
   "cell_type": "code",
   "execution_count": null,
   "id": "76f91a9f-57fa-45a6-83a8-d9ec8f282e00",
   "metadata": {},
   "outputs": [],
   "source": []
  }
 ],
 "metadata": {
  "kernelspec": {
   "display_name": "Python [conda env:base] *",
   "language": "python",
   "name": "conda-base-py"
  },
  "language_info": {
   "codemirror_mode": {
    "name": "ipython",
    "version": 3
   },
   "file_extension": ".py",
   "mimetype": "text/x-python",
   "name": "python",
   "nbconvert_exporter": "python",
   "pygments_lexer": "ipython3",
   "version": "3.12.4"
  }
 },
 "nbformat": 4,
 "nbformat_minor": 5
}
